{
  "nbformat": 4,
  "nbformat_minor": 0,
  "metadata": {
    "colab": {
      "name": "LAPKT Action Generation.ipynb",
      "provenance": [],
      "collapsed_sections": []
    },
    "kernelspec": {
      "name": "python3",
      "display_name": "Python 3"
    },
    "language_info": {
      "name": "python"
    },
    "accelerator": "GPU"
  },
  "cells": [
    {
      "cell_type": "markdown",
      "source": [
        "# Virtual Home Planner using LAPKT\n",
        "\n",
        "The following provides a complete instruction on generating actions given Virtualhome environment intial setting defined using a pddl file. Please see 'example_problem.pddl' to know how these problem files are defined.\n",
        "\n",
        "[![Open In Colab](https://colab.research.google.com/assets/colab-badge.svg)](https://colab.research.google.com/drive/1_FMnK6rmCjVCtQbj18qbuhxJGrIvA7Up?usp=sharing)"
      ],
      "metadata": {
        "id": "8KZVMxacTgGu"
      }
    },
    {
      "cell_type": "markdown",
      "source": [
        "# Setup PDDLMultiAgent Planner Directory"
      ],
      "metadata": {
        "id": "0HDyNIipGdiK"
      }
    },
    {
      "cell_type": "code",
      "source": [
        "!git -c core.symlinks=true clone --recurse-submodules https://github.com/xavierpuigf/PDDLMultiAgent\n",
        "%cd PDDLMultiAgent"
      ],
      "metadata": {
        "colab": {
          "base_uri": "https://localhost:8080/"
        },
        "id": "brOc7JQb_Gm6",
        "outputId": "71f521b1-9ac8-4fea-ecf6-5706b57c5725"
      },
      "execution_count": null,
      "outputs": [
        {
          "output_type": "stream",
          "name": "stdout",
          "text": [
            "Cloning into 'PDDLMultiAgent'...\n",
            "remote: Enumerating objects: 197, done.\u001b[K\n",
            "remote: Total 197 (delta 0), reused 0 (delta 0), pack-reused 197\u001b[K\n",
            "Receiving objects: 100% (197/197), 210.27 KiB | 4.21 MiB/s, done.\n",
            "Resolving deltas: 100% (96/96), done.\n",
            "Submodule 'LAPKT-public' (https://github.com/LAPKT-dev/LAPKT-public.git) registered for path 'LAPKT-public'\n",
            "Cloning into '/content/PDDLMultiAgent/LAPKT-public'...\n",
            "remote: Enumerating objects: 11594, done.        \n",
            "remote: Counting objects: 100% (2147/2147), done.        \n",
            "remote: Compressing objects: 100% (1263/1263), done.        \n",
            "remote: Total 11594 (delta 1079), reused 1750 (delta 715), pack-reused 9447        \n",
            "Receiving objects: 100% (11594/11594), 15.23 MiB | 8.55 MiB/s, done.\n",
            "Resolving deltas: 100% (6708/6708), done.\n",
            "Submodule path 'LAPKT-public': checked out 'af757138d0b4d903e35e5946b3b88e8f8d64e976'\n",
            "/content/PDDLMultiAgent\n"
          ]
        }
      ]
    },
    {
      "cell_type": "markdown",
      "source": [
        "# Build LAPKT"
      ],
      "metadata": {
        "id": "iD8Zklf8GPx1"
      }
    },
    {
      "cell_type": "code",
      "source": [
        "!sudo apt-get install xutils-dev\n",
        "!sudo apt install flex \n",
        "!sudo apt install bison\n",
        "!python -m pip install scons"
      ],
      "metadata": {
        "colab": {
          "base_uri": "https://localhost:8080/"
        },
        "id": "1DUNFa91-9ZU",
        "outputId": "9169b2fa-892f-41f2-c3b4-91e1f5062c00"
      },
      "execution_count": null,
      "outputs": [
        {
          "output_type": "stream",
          "name": "stdout",
          "text": [
            "Reading package lists... Done\n",
            "Building dependency tree       \n",
            "Reading state information... Done\n",
            "The following NEW packages will be installed:\n",
            "  xutils-dev\n",
            "0 upgraded, 1 newly installed, 0 to remove and 39 not upgraded.\n",
            "Need to get 239 kB of archives.\n",
            "After this operation, 1,503 kB of additional disk space will be used.\n",
            "Get:1 http://archive.ubuntu.com/ubuntu bionic/universe amd64 xutils-dev amd64 1:7.7+5ubuntu1 [239 kB]\n",
            "Fetched 239 kB in 0s (1,112 kB/s)\n",
            "debconf: unable to initialize frontend: Dialog\n",
            "debconf: (No usable dialog-like program is installed, so the dialog based frontend cannot be used. at /usr/share/perl5/Debconf/FrontEnd/Dialog.pm line 76, <> line 1.)\n",
            "debconf: falling back to frontend: Readline\n",
            "debconf: unable to initialize frontend: Readline\n",
            "debconf: (This frontend requires a controlling tty.)\n",
            "debconf: falling back to frontend: Teletype\n",
            "dpkg-preconfigure: unable to re-open stdin: \n",
            "Selecting previously unselected package xutils-dev.\n",
            "(Reading database ... 155455 files and directories currently installed.)\n",
            "Preparing to unpack .../xutils-dev_1%3a7.7+5ubuntu1_amd64.deb ...\n",
            "Unpacking xutils-dev (1:7.7+5ubuntu1) ...\n",
            "Setting up xutils-dev (1:7.7+5ubuntu1) ...\n",
            "Processing triggers for man-db (2.8.3-2ubuntu0.1) ...\n",
            "Reading package lists... Done\n",
            "Building dependency tree       \n",
            "Reading state information... Done\n",
            "The following additional packages will be installed:\n",
            "  libfl-dev libfl2 libsigsegv2 m4\n",
            "Suggested packages:\n",
            "  bison flex-doc m4-doc\n",
            "The following NEW packages will be installed:\n",
            "  flex libfl-dev libfl2 libsigsegv2 m4\n",
            "0 upgraded, 5 newly installed, 0 to remove and 39 not upgraded.\n",
            "Need to get 545 kB of archives.\n",
            "After this operation, 1,511 kB of additional disk space will be used.\n",
            "Get:1 http://archive.ubuntu.com/ubuntu bionic/main amd64 libsigsegv2 amd64 2.12-1 [14.7 kB]\n",
            "Get:2 http://archive.ubuntu.com/ubuntu bionic/main amd64 m4 amd64 1.4.18-1 [197 kB]\n",
            "Get:3 http://archive.ubuntu.com/ubuntu bionic/main amd64 flex amd64 2.6.4-6 [316 kB]\n",
            "Get:4 http://archive.ubuntu.com/ubuntu bionic/main amd64 libfl2 amd64 2.6.4-6 [11.4 kB]\n",
            "Get:5 http://archive.ubuntu.com/ubuntu bionic/main amd64 libfl-dev amd64 2.6.4-6 [6,320 B]\n",
            "Fetched 545 kB in 0s (2,087 kB/s)\n",
            "debconf: unable to initialize frontend: Dialog\n",
            "debconf: (No usable dialog-like program is installed, so the dialog based frontend cannot be used. at /usr/share/perl5/Debconf/FrontEnd/Dialog.pm line 76, <> line 5.)\n",
            "debconf: falling back to frontend: Readline\n",
            "debconf: unable to initialize frontend: Readline\n",
            "debconf: (This frontend requires a controlling tty.)\n",
            "debconf: falling back to frontend: Teletype\n",
            "dpkg-preconfigure: unable to re-open stdin: \n",
            "Selecting previously unselected package libsigsegv2:amd64.\n",
            "(Reading database ... 155608 files and directories currently installed.)\n",
            "Preparing to unpack .../libsigsegv2_2.12-1_amd64.deb ...\n",
            "Unpacking libsigsegv2:amd64 (2.12-1) ...\n",
            "Selecting previously unselected package m4.\n",
            "Preparing to unpack .../archives/m4_1.4.18-1_amd64.deb ...\n",
            "Unpacking m4 (1.4.18-1) ...\n",
            "Selecting previously unselected package flex.\n",
            "Preparing to unpack .../flex_2.6.4-6_amd64.deb ...\n",
            "Unpacking flex (2.6.4-6) ...\n",
            "Selecting previously unselected package libfl2:amd64.\n",
            "Preparing to unpack .../libfl2_2.6.4-6_amd64.deb ...\n",
            "Unpacking libfl2:amd64 (2.6.4-6) ...\n",
            "Selecting previously unselected package libfl-dev:amd64.\n",
            "Preparing to unpack .../libfl-dev_2.6.4-6_amd64.deb ...\n",
            "Unpacking libfl-dev:amd64 (2.6.4-6) ...\n",
            "Setting up libsigsegv2:amd64 (2.12-1) ...\n",
            "Setting up m4 (1.4.18-1) ...\n",
            "Setting up libfl2:amd64 (2.6.4-6) ...\n",
            "Setting up flex (2.6.4-6) ...\n",
            "Setting up libfl-dev:amd64 (2.6.4-6) ...\n",
            "Processing triggers for man-db (2.8.3-2ubuntu0.1) ...\n",
            "Processing triggers for libc-bin (2.27-3ubuntu1.3) ...\n",
            "/sbin/ldconfig.real: /usr/local/lib/python3.7/dist-packages/ideep4py/lib/libmkldnn.so.0 is not a symbolic link\n",
            "\n",
            "Reading package lists... Done\n",
            "Building dependency tree       \n",
            "Reading state information... Done\n",
            "The following additional packages will be installed:\n",
            "  libbison-dev\n",
            "Suggested packages:\n",
            "  bison-doc\n",
            "The following NEW packages will be installed:\n",
            "  bison libbison-dev\n",
            "0 upgraded, 2 newly installed, 0 to remove and 39 not upgraded.\n",
            "Need to get 605 kB of archives.\n",
            "After this operation, 1,811 kB of additional disk space will be used.\n",
            "Get:1 http://archive.ubuntu.com/ubuntu bionic/main amd64 libbison-dev amd64 2:3.0.4.dfsg-1build1 [339 kB]\n",
            "Get:2 http://archive.ubuntu.com/ubuntu bionic/main amd64 bison amd64 2:3.0.4.dfsg-1build1 [266 kB]\n",
            "Fetched 605 kB in 0s (2,301 kB/s)\n",
            "debconf: unable to initialize frontend: Dialog\n",
            "debconf: (No usable dialog-like program is installed, so the dialog based frontend cannot be used. at /usr/share/perl5/Debconf/FrontEnd/Dialog.pm line 76, <> line 2.)\n",
            "debconf: falling back to frontend: Readline\n",
            "debconf: unable to initialize frontend: Readline\n",
            "debconf: (This frontend requires a controlling tty.)\n",
            "debconf: falling back to frontend: Teletype\n",
            "dpkg-preconfigure: unable to re-open stdin: \n",
            "Selecting previously unselected package libbison-dev:amd64.\n",
            "(Reading database ... 155765 files and directories currently installed.)\n",
            "Preparing to unpack .../libbison-dev_2%3a3.0.4.dfsg-1build1_amd64.deb ...\n",
            "Unpacking libbison-dev:amd64 (2:3.0.4.dfsg-1build1) ...\n",
            "Selecting previously unselected package bison.\n",
            "Preparing to unpack .../bison_2%3a3.0.4.dfsg-1build1_amd64.deb ...\n",
            "Unpacking bison (2:3.0.4.dfsg-1build1) ...\n",
            "Setting up libbison-dev:amd64 (2:3.0.4.dfsg-1build1) ...\n",
            "Setting up bison (2:3.0.4.dfsg-1build1) ...\n",
            "update-alternatives: using /usr/bin/bison.yacc to provide /usr/bin/yacc (yacc) in auto mode\n",
            "Processing triggers for man-db (2.8.3-2ubuntu0.1) ...\n",
            "Collecting scons\n",
            "  Downloading SCons-4.3.0-py3-none-any.whl (4.2 MB)\n",
            "\u001b[K     |████████████████████████████████| 4.2 MB 5.2 MB/s \n",
            "\u001b[?25hRequirement already satisfied: setuptools in /usr/local/lib/python3.7/dist-packages (from scons) (57.4.0)\n",
            "Installing collected packages: scons\n",
            "Successfully installed scons-4.3.0\n"
          ]
        }
      ]
    },
    {
      "cell_type": "code",
      "source": [
        "%cd LAPKT-public\n",
        "!scons"
      ],
      "metadata": {
        "colab": {
          "base_uri": "https://localhost:8080/"
        },
        "id": "1XrueWrcWlzB",
        "outputId": "f8706744-77f2-4bd2-8728-0a0a913c6eda"
      },
      "execution_count": null,
      "outputs": [
        {
          "output_type": "stream",
          "name": "stdout",
          "text": [
            "/content/PDDLMultiAgent/LAPKT-public\n",
            "scons: Reading SConscript files ...\n",
            "scons: done reading SConscript files.\n",
            "scons: Building targets ...\n",
            "g++ -o src/bit_array.o -c -O3 -Wall -std=c++0x -DNDEBUG -I/usr/local/include -Iinclude src/bit_array.cxx\n",
            "g++ -o src/bit_set.o -c -O3 -Wall -std=c++0x -DNDEBUG -I/usr/local/include -Iinclude src/bit_set.cxx\n",
            "g++ -o src/memory.o -c -O3 -Wall -std=c++0x -DNDEBUG -I/usr/local/include -Iinclude src/memory.cxx\n",
            "ar rc libaptk.a src/bit_array.o src/bit_set.o src/memory.o\n",
            "ranlib libaptk.a\n",
            "scons: done building targets.\n"
          ]
        }
      ]
    },
    {
      "cell_type": "code",
      "source": [
        "%cd ./external/libff\n",
        "!make clean\n",
        "!make depend\n",
        "!make"
      ],
      "metadata": {
        "colab": {
          "base_uri": "https://localhost:8080/"
        },
        "id": "mTCKJ5vMi4D5",
        "outputId": "b89e2470-0e25-4359-f6cb-bfb7ddc364b4"
      },
      "execution_count": null,
      "outputs": [
        {
          "output_type": "stream",
          "name": "stdout",
          "text": [
            "/content/PDDLMultiAgent/LAPKT-public/external/libff\n",
            "rm -f *.o *.bak *~ *% core *_pure_p9_c0_400.o.warnings test_lib \\\n",
            "        \\#*\\#  scan-fct_pddl.tab.c scan-ops_pddl.tab.c scan-probname.tab.c lex.fct_pddl.c lex.ops_pddl.c \n",
            "makedepend -- main.c memory.c output.c parse.c expressions.c inst_pre.c inst_easy.c inst_hard.c inst_final.c relax.c search.c utility.c  libff.c memory.c output.c parse.c expressions.c inst_pre.c inst_easy.c inst_hard.c inst_final.c relax.c search.c utility.c scan-fct_pddl.tab.c scan-ops_pddl.tab.c scan-probname.tab.c lex.fct_pddl.c lex.ops_pddl.c  test_main.cxx\n",
            "makedepend: warning:  main.c (reading /usr/include/stdlib.h, line 25): cannot find include file \"bits/libc-header-start.h\"\n",
            "\tnot in /usr/include/bits/libc-header-start.h\n",
            "makedepend: warning:  main.c (reading /usr/include/stdlib.h, line 31): cannot find include file \"stddef.h\"\n",
            "\tnot in /usr/include/stddef.h\n",
            "makedepend: warning:  main.c (reading /usr/include/stdlib.h, line 55): cannot find include file \"bits/floatn.h\"\n",
            "\tnot in /usr/include/bits/floatn.h\n",
            "makedepend: warning:  main.c (reading /usr/include/stdlib.h, line 1016): cannot find include file \"bits/stdlib-float.h\"\n",
            "\tnot in /usr/include/bits/stdlib-float.h\n",
            "makedepend: warning:  main.c (reading /usr/include/stdio.h, line 27): cannot find include file \"bits/libc-header-start.h\"\n",
            "\tnot in /usr/include/bits/libc-header-start.h\n",
            "makedepend: warning:  main.c (reading /usr/include/stdio.h, line 33): cannot find include file \"stddef.h\"\n",
            "\tnot in /usr/include/stddef.h\n",
            "makedepend: warning:  main.c (reading /usr/include/stdio.h, line 35): cannot find include file \"bits/types.h\"\n",
            "\tnot in /usr/include/bits/types.h\n",
            "makedepend: warning:  main.c (reading /usr/include/stdio.h, line 36): cannot find include file \"bits/types/__FILE.h\"\n",
            "\tnot in /usr/include/bits/types/__FILE.h\n",
            "makedepend: warning:  main.c (reading /usr/include/stdio.h, line 37): cannot find include file \"bits/types/FILE.h\"\n",
            "\tnot in /usr/include/bits/types/FILE.h\n",
            "makedepend: warning:  main.c (reading /usr/include/stdio.h, line 41): cannot find include file \"bits/libio.h\"\n",
            "\tnot in /usr/include/bits/libio.h\n",
            "makedepend: warning:  main.c (reading /usr/include/stdio.h, line 131): cannot find include file \"bits/stdio_lim.h\"\n",
            "\tnot in /usr/include/bits/stdio_lim.h\n",
            "makedepend: warning:  main.c (reading /usr/include/stdio.h, line 781): cannot find include file \"bits/sys_errlist.h\"\n",
            "\tnot in /usr/include/bits/sys_errlist.h\n",
            "makedepend: warning:  main.c (reading /usr/include/features.h, line 424): cannot find include file \"sys/cdefs.h\"\n",
            "\tnot in /usr/include/sys/cdefs.h\n",
            "makedepend: warning:  main.c (reading /usr/include/features.h, line 448): cannot find include file \"gnu/stubs.h\"\n",
            "\tnot in /usr/include/gnu/stubs.h\n",
            "makedepend: warning:  main.c (reading /usr/include/strings.h, line 23): cannot find include file \"stddef.h\"\n",
            "\tnot in /usr/include/stddef.h\n",
            "makedepend: warning:  main.c (reading /usr/include/strings.h, line 125): cannot find include file \"bits/types/locale_t.h\"\n",
            "\tnot in /usr/include/bits/types/locale_t.h\n",
            "makedepend: warning:  main.c (reading /usr/include/ctype.h, line 26): cannot find include file \"bits/types.h\"\n",
            "\tnot in /usr/include/bits/types.h\n",
            "makedepend: warning:  main.c (reading /usr/include/endian.h, line 36): cannot find include file \"bits/endian.h\"\n",
            "\tnot in /usr/include/bits/endian.h\n",
            "makedepend: warning:  main.c (reading /usr/include/endian.h, line 60): cannot find include file \"bits/byteswap.h\"\n",
            "\tnot in /usr/include/bits/byteswap.h\n",
            "makedepend: warning:  main.c (reading /usr/include/endian.h, line 61): cannot find include file \"bits/uintn-identity.h\"\n",
            "\tnot in /usr/include/bits/uintn-identity.h\n",
            "makedepend: warning:  main.c (reading /usr/include/ctype.h, line 237): cannot find include file \"bits/types/locale_t.h\"\n",
            "\tnot in /usr/include/bits/types/locale_t.h\n",
            "makedepend: warning:  main.c (reading ff.h, line 72): cannot find include file \"sys/types.h\"\n",
            "\tnot in /usr/include/sys/types.h\n",
            "makedepend: warning:  main.c (reading ff.h, line 73): cannot find include file \"sys/timeb.h\"\n",
            "\tnot in /usr/include/sys/timeb.h\n",
            "makedepend: warning:  main.c (reading ff.h, line 74): cannot find include file \"sys/times.h\"\n",
            "\tnot in /usr/include/sys/times.h\n",
            "makedepend: warning:  main.c (reading /usr/include/string.h, line 26): cannot find include file \"bits/libc-header-start.h\"\n",
            "\tnot in /usr/include/bits/libc-header-start.h\n",
            "makedepend: warning:  main.c (reading /usr/include/string.h, line 33): cannot find include file \"stddef.h\"\n",
            "\tnot in /usr/include/stddef.h\n",
            "makedepend: warning:  main.c (reading /usr/include/string.h, line 152): cannot find include file \"bits/types/locale_t.h\"\n",
            "\tnot in /usr/include/bits/types/locale_t.h\n",
            "makedepend: warning:  cannot open \"scan-fct_pddl.tab.c\"\n",
            "makedepend: warning:  cannot open \"scan-ops_pddl.tab.c\"\n",
            "makedepend: warning:  cannot open \"scan-probname.tab.c\"\n",
            "makedepend: warning:  cannot open \"lex.fct_pddl.c\"\n",
            "makedepend: warning:  cannot open \"lex.ops_pddl.c\"\n",
            "makedepend: warning:  test_main.cxx, line 3: cannot find include file \"iostream\"\n",
            "\tnot in /usr/include/iostream\n",
            "makedepend: warning:  test_main.cxx, line 4: cannot find include file \"fstream\"\n",
            "\tnot in /usr/include/fstream\n",
            "gcc -c -O6 -Wall -ansi   libff.c\n",
            "In file included from \u001b[01m\u001b[Klibff.c:1:0\u001b[m\u001b[K:\n",
            "\u001b[01m\u001b[Klibff.h:458:8:\u001b[m\u001b[K \u001b[01;35m\u001b[Kwarning: \u001b[m\u001b[Kextra tokens at end of #endif directive [\u001b[01;35m\u001b[K-Wendif-labels\u001b[m\u001b[K]\n",
            " #endif \u001b[01;35m\u001b[K/\u001b[m\u001b[K/libff.h\n",
            "        \u001b[01;35m\u001b[K^\u001b[m\u001b[K\n",
            "\u001b[01m\u001b[Klibff.c:\u001b[m\u001b[K In function ‘\u001b[01m\u001b[KFF_reinitialize_globals\u001b[m\u001b[K’:\n",
            "\u001b[01m\u001b[Klibff.c:414:2:\u001b[m\u001b[K \u001b[01;35m\u001b[Kwarning: \u001b[m\u001b[Kstatement with no effect [\u001b[01;35m\u001b[K-Wunused-value\u001b[m\u001b[K]\n",
            "  \u001b[01;35m\u001b[Kgnum_actions\u001b[m\u001b[K;\n",
            "  \u001b[01;35m\u001b[K^~~~~~~~~~~~\u001b[m\u001b[K\n",
            "\u001b[01m\u001b[Klibff.c:\u001b[m\u001b[K In function ‘\u001b[01m\u001b[KFF_parse_problem\u001b[m\u001b[K’:\n",
            "\u001b[01m\u001b[Klibff.c:454:2:\u001b[m\u001b[K \u001b[01;35m\u001b[Kwarning: \u001b[m\u001b[Kimplicit declaration of function ‘\u001b[01m\u001b[Ksnprintf\u001b[m\u001b[K’; did you mean ‘\u001b[01m\u001b[Ksprintf\u001b[m\u001b[K’? [\u001b[01;35m\u001b[K-Wimplicit-function-declaration\u001b[m\u001b[K]\n",
            "  \u001b[01;35m\u001b[Ksnprintf\u001b[m\u001b[K( ops_file, MAX_LENGTH, \"%s\", domain_file );\n",
            "  \u001b[01;35m\u001b[K^~~~~~~~\u001b[m\u001b[K\n",
            "  \u001b[32m\u001b[Ksprintf\u001b[m\u001b[K\n",
            "gcc -c -O6 -Wall -ansi   memory.c\n",
            "gcc -c -O6 -Wall -ansi   output.c\n",
            "gcc -c -O6 -Wall -ansi   parse.c\n",
            "gcc -c -O6 -Wall -ansi   expressions.c\n",
            "gcc -c -O6 -Wall -ansi   inst_pre.c\n",
            "gcc -c -O6 -Wall -ansi   inst_easy.c\n",
            "In file included from \u001b[01m\u001b[Kinst_easy.c:66:0\u001b[m\u001b[K:\n",
            "\u001b[01m\u001b[Kinst_easy.c:\u001b[m\u001b[K In function ‘\u001b[01m\u001b[Kmultiply_easy_non_constrained_effect_parameters\u001b[m\u001b[K’:\n",
            "\u001b[01m\u001b[Kff.h:319:37:\u001b[m\u001b[K \u001b[01;35m\u001b[Kwarning: \u001b[m\u001b[K‘\u001b[01m\u001b[K*\u001b[m\u001b[K’ in boolean context, suggest ‘\u001b[01m\u001b[K&&\u001b[m\u001b[K’ instead [\u001b[01;35m\u001b[K-Wint-in-bool-context\u001b[m\u001b[K]\n",
            " #define DECODE_VAR( val ) \u001b[01;35m\u001b[K(val + 1) * (-1)\u001b[m\u001b[K\n",
            "                           \u001b[01;35m\u001b[K~~~~~~~~~~^~~~~~\u001b[m\u001b[K\n",
            "\u001b[01m\u001b[Kinst_easy.c:944:9:\u001b[m\u001b[K \u001b[01;36m\u001b[Knote: \u001b[m\u001b[Kin expansion of macro ‘\u001b[01m\u001b[KDECODE_VAR\u001b[m\u001b[K’\n",
            "         \u001b[01;36m\u001b[KDECODE_VAR\u001b[m\u001b[K( tmp->conditions[i].args[j] < lo->num_vars ) ) {\n",
            "         \u001b[01;36m\u001b[K^~~~~~~~~~\u001b[m\u001b[K\n",
            "gcc -c -O6 -Wall -ansi   inst_hard.c\n",
            "gcc -c -O6 -Wall -ansi   inst_final.c\n",
            "\u001b[01m\u001b[Kinst_final.c:\u001b[m\u001b[K In function ‘\u001b[01m\u001b[Kbuild_connectivity_graph\u001b[m\u001b[K’:\n",
            "\u001b[01m\u001b[Kinst_final.c:1932:3:\u001b[m\u001b[K \u001b[01;35m\u001b[Kwarning: \u001b[m\u001b[Kimplicit declaration of function ‘\u001b[01m\u001b[Ksrandom\u001b[m\u001b[K’; did you mean ‘\u001b[01m\u001b[Ksrand\u001b[m\u001b[K’? [\u001b[01;35m\u001b[K-Wimplicit-function-declaration\u001b[m\u001b[K]\n",
            "   \u001b[01;35m\u001b[Ksrandom\u001b[m\u001b[K( tp.millitm );\n",
            "   \u001b[01;35m\u001b[K^~~~~~~\u001b[m\u001b[K\n",
            "   \u001b[32m\u001b[Ksrand\u001b[m\u001b[K\n",
            "\u001b[01m\u001b[Kinst_final.c:1948:24:\u001b[m\u001b[K \u001b[01;35m\u001b[Kwarning: \u001b[m\u001b[Kimplicit declaration of function ‘\u001b[01m\u001b[Krandom\u001b[m\u001b[K’; did you mean ‘\u001b[01m\u001b[Krand\u001b[m\u001b[K’? [\u001b[01;35m\u001b[K-Wimplicit-function-declaration\u001b[m\u001b[K]\n",
            "     gft_conn[i].rand = \u001b[01;35m\u001b[Krandom\u001b[m\u001b[K() % BIG_INT;\n",
            "                        \u001b[01;35m\u001b[K^~~~~~\u001b[m\u001b[K\n",
            "                        \u001b[32m\u001b[Krand\u001b[m\u001b[K\n",
            "gcc -c -O6 -Wall -ansi   relax.c\n",
            "gcc -c -O6 -Wall -ansi   search.c\n",
            "\u001b[01m\u001b[Ksearch.c:\u001b[m\u001b[K In function ‘\u001b[01m\u001b[Kdo_best_first_search\u001b[m\u001b[K’:\n",
            "\u001b[01m\u001b[Ksearch.c:936:5:\u001b[m\u001b[K \u001b[01;35m\u001b[Kwarning: \u001b[m\u001b[Kimplicit declaration of function ‘\u001b[01m\u001b[Kprint_state\u001b[m\u001b[K’; did you mean ‘\u001b[01m\u001b[Kprint_State\u001b[m\u001b[K’? [\u001b[01;35m\u001b[K-Wimplicit-function-declaration\u001b[m\u001b[K]\n",
            "     \u001b[01;35m\u001b[Kprint_state\u001b[m\u001b[K( &(first->S) );\n",
            "     \u001b[01;35m\u001b[K^~~~~~~~~~~\u001b[m\u001b[K\n",
            "     \u001b[32m\u001b[Kprint_State\u001b[m\u001b[K\n",
            "gcc -c -O6 -Wall -ansi   utility.c\n",
            "flex -Pfct_pddl lex-fct_pddl.l\n",
            "bison -pfct_pddl -bscan-fct_pddl scan-fct_pddl.y\n",
            "scan-fct_pddl.y: warning: 1 nonterminal useless in grammar [-Wother]\n",
            "scan-fct_pddl.y: warning: 2 rules useless in grammar [-Wother]\n",
            "scan-fct_pddl.y:135.17-33: warning: nonterminal useless in grammar: literal_name_plus [-Wother]\n",
            " %type <pPlNode> literal_name_plus\n",
            "                 ^^^^^^^^^^^^^^^^^\n",
            "scan-fct_pddl.y:814.1-817.1: warning: rule useless in grammar [-Wother]\n",
            " literal_name\n",
            " ^^^^^^^^^^^^\n",
            "scan-fct_pddl.y:819.1-823.1: warning: rule useless in grammar [-Wother]\n",
            " literal_name literal_name_plus\n",
            " ^^^^^^^^^^^^^^^^^^^^^^^^^^^^^^\n",
            "scan-fct_pddl.y: warning: 1 shift/reduce conflict [-Wconflicts-sr]\n",
            "scan-fct_pddl.y: warning: 1 reduce/reduce conflict [-Wconflicts-rr]\n",
            "gcc -c -O6 -Wall -ansi   scan-fct_pddl.tab.c\n",
            "\u001b[01m\u001b[Kscan-fct_pddl.tab.c:\u001b[m\u001b[K In function ‘\u001b[01m\u001b[Kfct_pddlparse\u001b[m\u001b[K’:\n",
            "\u001b[01m\u001b[Kscan-fct_pddl.tab.c:64:25:\u001b[m\u001b[K \u001b[01;35m\u001b[Kwarning: \u001b[m\u001b[Kimplicit declaration of function ‘\u001b[01m\u001b[Kfct_pddllex\u001b[m\u001b[K’; did you mean ‘\u001b[01m\u001b[Kfct_pddlparse\u001b[m\u001b[K’? [\u001b[01;35m\u001b[K-Wimplicit-function-declaration\u001b[m\u001b[K]\n",
            " #define yylex           \u001b[01;35m\u001b[Kf\u001b[m\u001b[Kct_pddllex\n",
            "                         \u001b[01;35m\u001b[K^\u001b[m\u001b[K\n",
            "\u001b[01m\u001b[Kscan-fct_pddl.tab.c:1382:16:\u001b[m\u001b[K \u001b[01;36m\u001b[Knote: \u001b[m\u001b[Kin expansion of macro ‘\u001b[01m\u001b[Kyylex\u001b[m\u001b[K’\n",
            "       yychar = \u001b[01;36m\u001b[Kyylex\u001b[m\u001b[K ();\n",
            "                \u001b[01;36m\u001b[K^~~~~\u001b[m\u001b[K\n",
            "\u001b[01m\u001b[Kscan-fct_pddl.y:194:3:\u001b[m\u001b[K \u001b[01;35m\u001b[Kwarning: \u001b[m\u001b[Kimplicit declaration of function ‘\u001b[01m\u001b[Kfcterr\u001b[m\u001b[K’; did you mean ‘\u001b[01m\u001b[Kftell\u001b[m\u001b[K’? [\u001b[01;35m\u001b[K-Wimplicit-function-declaration\u001b[m\u001b[K]\n",
            "   \u001b[01;35m\u001b[Kfcterr\u001b[m\u001b[K( PROBNAME_EXPECTED, NULL );\n",
            "   \u001b[01;35m\u001b[K^~~~~~\u001b[m\u001b[K\n",
            "   \u001b[32m\u001b[Kftell\u001b[m\u001b[K\n",
            "\u001b[01m\u001b[Kscan-fct_pddl.tab.c:65:25:\u001b[m\u001b[K \u001b[01;35m\u001b[Kwarning: \u001b[m\u001b[Kimplicit declaration of function ‘\u001b[01m\u001b[Kfct_pddlerror\u001b[m\u001b[K’; did you mean ‘\u001b[01m\u001b[Kfct_pddlparse\u001b[m\u001b[K’? [\u001b[01;35m\u001b[K-Wimplicit-function-declaration\u001b[m\u001b[K]\n",
            " #define yyerror         \u001b[01;35m\u001b[Kf\u001b[m\u001b[Kct_pddlerror\n",
            "                         \u001b[01;35m\u001b[K^\u001b[m\u001b[K\n",
            "\u001b[01m\u001b[Kscan-fct_pddl.y:222:5:\u001b[m\u001b[K \u001b[01;36m\u001b[Knote: \u001b[m\u001b[Kin expansion of macro ‘\u001b[01m\u001b[Kyyerror\u001b[m\u001b[K’\n",
            "     \u001b[01;36m\u001b[Kyyerror\u001b[m\u001b[K();\n",
            "     \u001b[01;36m\u001b[K^~~~~~~\u001b[m\u001b[K\n",
            "In file included from \u001b[01m\u001b[Kscan-fct_pddl.y:876:0\u001b[m\u001b[K:\n",
            "\u001b[01m\u001b[Klex.fct_pddl.c:\u001b[m\u001b[K At top level:\n",
            "\u001b[01m\u001b[Klex.fct_pddl.c:28:16:\u001b[m\u001b[K \u001b[01;35m\u001b[Kwarning: \u001b[m\u001b[Kprototype for ‘\u001b[01m\u001b[Kfct_pddlwrap\u001b[m\u001b[K’ follows non-prototype definition\n",
            " #define yywrap \u001b[01;35m\u001b[Kf\u001b[m\u001b[Kct_pddlwrap\n",
            "                \u001b[01;35m\u001b[K^\u001b[m\u001b[K\n",
            "\u001b[01m\u001b[Klex.fct_pddl.c:913:12:\u001b[m\u001b[K \u001b[01;36m\u001b[Knote: \u001b[m\u001b[Kin expansion of macro ‘\u001b[01m\u001b[Kyywrap\u001b[m\u001b[K’\n",
            " extern int \u001b[01;36m\u001b[Kyywrap\u001b[m\u001b[K ( void );\n",
            "            \u001b[01;36m\u001b[K^~~~~~\u001b[m\u001b[K\n",
            "In file included from \u001b[01m\u001b[Kscan-fct_pddl.y:876:0\u001b[m\u001b[K:\n",
            "\u001b[01m\u001b[Klex.fct_pddl.c:\u001b[m\u001b[K In function ‘\u001b[01m\u001b[Kfct_pddl_init_buffer\u001b[m\u001b[K’:\n",
            "\u001b[01m\u001b[Klex.fct_pddl.c:1962:48:\u001b[m\u001b[K \u001b[01;35m\u001b[Kwarning: \u001b[m\u001b[Kimplicit declaration of function ‘\u001b[01m\u001b[Kfileno\u001b[m\u001b[K’; did you mean ‘\u001b[01m\u001b[Kmblen\u001b[m\u001b[K’? [\u001b[01;35m\u001b[K-Wimplicit-function-declaration\u001b[m\u001b[K]\n",
            "         b->yy_is_interactive = file ? (isatty( \u001b[01;35m\u001b[Kfileno\u001b[m\u001b[K(file) ) > 0) : 0;\n",
            "                                                \u001b[01;35m\u001b[K^~~~~~\u001b[m\u001b[K\n",
            "                                                \u001b[32m\u001b[Kmblen\u001b[m\u001b[K\n",
            "\u001b[01m\u001b[Kscan-fct_pddl.y:\u001b[m\u001b[K At top level:\n",
            "\u001b[01m\u001b[Kscan-fct_pddl.y:887:6:\u001b[m\u001b[K \u001b[01;35m\u001b[Kwarning: \u001b[m\u001b[Kconflicting types for ‘\u001b[01m\u001b[Kfcterr\u001b[m\u001b[K’\n",
            " void \u001b[01;35m\u001b[Kfcterr\u001b[m\u001b[K( int errno, char *par ) {\n",
            "      \u001b[01;35m\u001b[K^~~~~~\u001b[m\u001b[K\n",
            "\u001b[01m\u001b[Kscan-fct_pddl.y:194:3:\u001b[m\u001b[K \u001b[01;36m\u001b[Knote: \u001b[m\u001b[Kprevious implicit declaration of ‘\u001b[01m\u001b[Kfcterr\u001b[m\u001b[K’ was here\n",
            "   \u001b[01;36m\u001b[Kfcterr\u001b[m\u001b[K( PROBNAME_EXPECTED, NULL );\n",
            "   \u001b[01;36m\u001b[K^~~~~~\u001b[m\u001b[K\n",
            "In file included from \u001b[01m\u001b[Kscan-fct_pddl.y:876:0\u001b[m\u001b[K:\n",
            "\u001b[01m\u001b[Klex.fct_pddl.c:1759:16:\u001b[m\u001b[K \u001b[01;35m\u001b[Kwarning: \u001b[m\u001b[K‘\u001b[01m\u001b[Kinput\u001b[m\u001b[K’ defined but not used [\u001b[01;35m\u001b[K-Wunused-function\u001b[m\u001b[K]\n",
            "     static int \u001b[01;35m\u001b[Kinput\u001b[m\u001b[K  (void)\n",
            "                \u001b[01;35m\u001b[K^~~~~\u001b[m\u001b[K\n",
            "\u001b[01m\u001b[Klex.fct_pddl.c:1716:17:\u001b[m\u001b[K \u001b[01;35m\u001b[Kwarning: \u001b[m\u001b[K‘\u001b[01m\u001b[Kyyunput\u001b[m\u001b[K’ defined but not used [\u001b[01;35m\u001b[K-Wunused-function\u001b[m\u001b[K]\n",
            "     static void \u001b[01;35m\u001b[Kyyunput\u001b[m\u001b[K (int c, char * yy_bp )\n",
            "                 \u001b[01;35m\u001b[K^~~~~~~\u001b[m\u001b[K\n",
            "flex -Pops_pddl lex-ops_pddl.l\n",
            "bison -pops_pddl -bscan-ops_pddl scan-ops_pddl.y\n",
            "scan-ops_pddl.y: warning: 1 shift/reduce conflict [-Wconflicts-sr]\n",
            "gcc -c -O6 -Wall -ansi   scan-ops_pddl.tab.c\n",
            "\u001b[01m\u001b[Kscan-ops_pddl.tab.c:\u001b[m\u001b[K In function ‘\u001b[01m\u001b[Kops_pddlparse\u001b[m\u001b[K’:\n",
            "\u001b[01m\u001b[Kscan-ops_pddl.tab.c:64:25:\u001b[m\u001b[K \u001b[01;35m\u001b[Kwarning: \u001b[m\u001b[Kimplicit declaration of function ‘\u001b[01m\u001b[Kops_pddllex\u001b[m\u001b[K’; did you mean ‘\u001b[01m\u001b[Kops_pddlparse\u001b[m\u001b[K’? [\u001b[01;35m\u001b[K-Wimplicit-function-declaration\u001b[m\u001b[K]\n",
            " #define yylex           \u001b[01;35m\u001b[Ko\u001b[m\u001b[Kps_pddllex\n",
            "                         \u001b[01;35m\u001b[K^\u001b[m\u001b[K\n",
            "\u001b[01m\u001b[Kscan-ops_pddl.tab.c:1439:16:\u001b[m\u001b[K \u001b[01;36m\u001b[Knote: \u001b[m\u001b[Kin expansion of macro ‘\u001b[01m\u001b[Kyylex\u001b[m\u001b[K’\n",
            "       yychar = \u001b[01;36m\u001b[Kyylex\u001b[m\u001b[K ();\n",
            "                \u001b[01;36m\u001b[K^~~~~\u001b[m\u001b[K\n",
            "\u001b[01m\u001b[Kscan-ops_pddl.y:205:3:\u001b[m\u001b[K \u001b[01;35m\u001b[Kwarning: \u001b[m\u001b[Kimplicit declaration of function ‘\u001b[01m\u001b[Kopserr\u001b[m\u001b[K’; did you mean ‘\u001b[01m\u001b[Kstderr\u001b[m\u001b[K’? [\u001b[01;35m\u001b[K-Wimplicit-function-declaration\u001b[m\u001b[K]\n",
            "   \u001b[01;35m\u001b[Kopserr\u001b[m\u001b[K( DOMDEF_EXPECTED, NULL );\n",
            "   \u001b[01;35m\u001b[K^~~~~~\u001b[m\u001b[K\n",
            "   \u001b[32m\u001b[Kstderr\u001b[m\u001b[K\n",
            "\u001b[01m\u001b[Kscan-ops_pddl.tab.c:65:25:\u001b[m\u001b[K \u001b[01;35m\u001b[Kwarning: \u001b[m\u001b[Kimplicit declaration of function ‘\u001b[01m\u001b[Kops_pddlerror\u001b[m\u001b[K’; did you mean ‘\u001b[01m\u001b[Kops_pddlparse\u001b[m\u001b[K’? [\u001b[01;35m\u001b[K-Wimplicit-function-declaration\u001b[m\u001b[K]\n",
            " #define yyerror         \u001b[01;35m\u001b[Ko\u001b[m\u001b[Kps_pddlerror\n",
            "                         \u001b[01;35m\u001b[K^\u001b[m\u001b[K\n",
            "\u001b[01m\u001b[Kscan-ops_pddl.y:379:5:\u001b[m\u001b[K \u001b[01;36m\u001b[Knote: \u001b[m\u001b[Kin expansion of macro ‘\u001b[01m\u001b[Kyyerror\u001b[m\u001b[K’\n",
            "     \u001b[01;36m\u001b[Kyyerror\u001b[m\u001b[K();\n",
            "     \u001b[01;36m\u001b[K^~~~~~~\u001b[m\u001b[K\n",
            "In file included from \u001b[01m\u001b[Kscan-ops_pddl.y:994:0\u001b[m\u001b[K:\n",
            "\u001b[01m\u001b[Klex.ops_pddl.c:\u001b[m\u001b[K At top level:\n",
            "\u001b[01m\u001b[Klex.ops_pddl.c:28:16:\u001b[m\u001b[K \u001b[01;35m\u001b[Kwarning: \u001b[m\u001b[Kprototype for ‘\u001b[01m\u001b[Kops_pddlwrap\u001b[m\u001b[K’ follows non-prototype definition\n",
            " #define yywrap \u001b[01;35m\u001b[Ko\u001b[m\u001b[Kps_pddlwrap\n",
            "                \u001b[01;35m\u001b[K^\u001b[m\u001b[K\n",
            "\u001b[01m\u001b[Klex.ops_pddl.c:928:12:\u001b[m\u001b[K \u001b[01;36m\u001b[Knote: \u001b[m\u001b[Kin expansion of macro ‘\u001b[01m\u001b[Kyywrap\u001b[m\u001b[K’\n",
            " extern int \u001b[01;36m\u001b[Kyywrap\u001b[m\u001b[K ( void );\n",
            "            \u001b[01;36m\u001b[K^~~~~~\u001b[m\u001b[K\n",
            "In file included from \u001b[01m\u001b[Kscan-ops_pddl.y:994:0\u001b[m\u001b[K:\n",
            "\u001b[01m\u001b[Klex.ops_pddl.c:\u001b[m\u001b[K In function ‘\u001b[01m\u001b[Kops_pddl_init_buffer\u001b[m\u001b[K’:\n",
            "\u001b[01m\u001b[Klex.ops_pddl.c:2003:48:\u001b[m\u001b[K \u001b[01;35m\u001b[Kwarning: \u001b[m\u001b[Kimplicit declaration of function ‘\u001b[01m\u001b[Kfileno\u001b[m\u001b[K’; did you mean ‘\u001b[01m\u001b[Kmblen\u001b[m\u001b[K’? [\u001b[01;35m\u001b[K-Wimplicit-function-declaration\u001b[m\u001b[K]\n",
            "         b->yy_is_interactive = file ? (isatty( \u001b[01;35m\u001b[Kfileno\u001b[m\u001b[K(file) ) > 0) : 0;\n",
            "                                                \u001b[01;35m\u001b[K^~~~~~\u001b[m\u001b[K\n",
            "                                                \u001b[32m\u001b[Kmblen\u001b[m\u001b[K\n",
            "\u001b[01m\u001b[Kscan-ops_pddl.y:\u001b[m\u001b[K At top level:\n",
            "\u001b[01m\u001b[Kscan-ops_pddl.y:1005:6:\u001b[m\u001b[K \u001b[01;35m\u001b[Kwarning: \u001b[m\u001b[Kconflicting types for ‘\u001b[01m\u001b[Kopserr\u001b[m\u001b[K’\n",
            " void \u001b[01;35m\u001b[Kopserr\u001b[m\u001b[K( int errno, char *par )\n",
            "      \u001b[01;35m\u001b[K^~~~~~\u001b[m\u001b[K\n",
            "\u001b[01m\u001b[Kscan-ops_pddl.y:205:3:\u001b[m\u001b[K \u001b[01;36m\u001b[Knote: \u001b[m\u001b[Kprevious implicit declaration of ‘\u001b[01m\u001b[Kopserr\u001b[m\u001b[K’ was here\n",
            "   \u001b[01;36m\u001b[Kopserr\u001b[m\u001b[K( DOMDEF_EXPECTED, NULL );\n",
            "   \u001b[01;36m\u001b[K^~~~~~\u001b[m\u001b[K\n",
            "In file included from \u001b[01m\u001b[Kscan-ops_pddl.y:994:0\u001b[m\u001b[K:\n",
            "\u001b[01m\u001b[Klex.ops_pddl.c:1800:16:\u001b[m\u001b[K \u001b[01;35m\u001b[Kwarning: \u001b[m\u001b[K‘\u001b[01m\u001b[Kinput\u001b[m\u001b[K’ defined but not used [\u001b[01;35m\u001b[K-Wunused-function\u001b[m\u001b[K]\n",
            "     static int \u001b[01;35m\u001b[Kinput\u001b[m\u001b[K  (void)\n",
            "                \u001b[01;35m\u001b[K^~~~~\u001b[m\u001b[K\n",
            "\u001b[01m\u001b[Klex.ops_pddl.c:1757:17:\u001b[m\u001b[K \u001b[01;35m\u001b[Kwarning: \u001b[m\u001b[K‘\u001b[01m\u001b[Kyyunput\u001b[m\u001b[K’ defined but not used [\u001b[01;35m\u001b[K-Wunused-function\u001b[m\u001b[K]\n",
            "     static void \u001b[01;35m\u001b[Kyyunput\u001b[m\u001b[K (int c, char * yy_bp )\n",
            "                 \u001b[01;35m\u001b[K^~~~~~~\u001b[m\u001b[K\n",
            "ar cru libff.a libff.o memory.o output.o parse.o expressions.o inst_pre.o inst_easy.o inst_hard.o inst_final.o relax.o search.o utility.o scan-fct_pddl.tab.o scan-ops_pddl.tab.o \n",
            "ar: `u' modifier ignored since `D' is the default (see `U')\n"
          ]
        }
      ]
    },
    {
      "cell_type": "code",
      "source": [
        "%cd ../.."
      ],
      "metadata": {
        "colab": {
          "base_uri": "https://localhost:8080/"
        },
        "id": "Zp5RKKc4jEC8",
        "outputId": "cec4d9de-9e0f-40f4-d4e3-90292b0c521d"
      },
      "execution_count": null,
      "outputs": [
        {
          "output_type": "stream",
          "name": "stdout",
          "text": [
            "/content/PDDLMultiAgent/LAPKT-public\n"
          ]
        }
      ]
    },
    {
      "cell_type": "code",
      "source": [
        "%cd ./planners/siw_plus-then-bfs_f-ffparser\n",
        "!scons"
      ],
      "metadata": {
        "colab": {
          "base_uri": "https://localhost:8080/"
        },
        "id": "PIjrvzU0_foI",
        "outputId": "edd62dc1-522a-484b-aca2-ad734d011cd8"
      },
      "execution_count": null,
      "outputs": [
        {
          "output_type": "stream",
          "name": "stdout",
          "text": [
            "/content/PDDLMultiAgent/LAPKT-public/planners/siw_plus-then-bfs_f-ffparser\n",
            "scons: Reading SConscript files ...\n",
            "scons: done reading SConscript files.\n",
            "scons: Building targets ...\n",
            "g++ -o src/main.o -c -Wall -std=c++11 -O3 -DNDEBUG -I/content/PDDLMultiAgent/LAPKT-public/src -I/content/PDDLMultiAgent/LAPKT-public/include -I/content/PDDLMultiAgent/LAPKT-public/interfaces/agnostic -I/content/PDDLMultiAgent/LAPKT-public/interfaces/ff-wrapped -I/content/PDDLMultiAgent/LAPKT-public/include -I/content/PDDLMultiAgent/LAPKT-public/external -I/content/PDDLMultiAgent/LAPKT-public/interfaces/agnostic -I/content/PDDLMultiAgent/LAPKT-public/interfaces/ff-wrapped -Isrc src/main.cxx\n",
            "g++ -o /content/PDDLMultiAgent/LAPKT-public/src/bit_array.o -c -Wall -std=c++11 -O3 -DNDEBUG -I/content/PDDLMultiAgent/LAPKT-public/src -I/content/PDDLMultiAgent/LAPKT-public/include -I/content/PDDLMultiAgent/LAPKT-public/interfaces/agnostic -I/content/PDDLMultiAgent/LAPKT-public/interfaces/ff-wrapped -I/content/PDDLMultiAgent/LAPKT-public/include -I/content/PDDLMultiAgent/LAPKT-public/external -I/content/PDDLMultiAgent/LAPKT-public/interfaces/agnostic -I/content/PDDLMultiAgent/LAPKT-public/interfaces/ff-wrapped -Isrc /content/PDDLMultiAgent/LAPKT-public/src/bit_array.cxx\n",
            "g++ -o /content/PDDLMultiAgent/LAPKT-public/src/bit_set.o -c -Wall -std=c++11 -O3 -DNDEBUG -I/content/PDDLMultiAgent/LAPKT-public/src -I/content/PDDLMultiAgent/LAPKT-public/include -I/content/PDDLMultiAgent/LAPKT-public/interfaces/agnostic -I/content/PDDLMultiAgent/LAPKT-public/interfaces/ff-wrapped -I/content/PDDLMultiAgent/LAPKT-public/include -I/content/PDDLMultiAgent/LAPKT-public/external -I/content/PDDLMultiAgent/LAPKT-public/interfaces/agnostic -I/content/PDDLMultiAgent/LAPKT-public/interfaces/ff-wrapped -Isrc /content/PDDLMultiAgent/LAPKT-public/src/bit_set.cxx\n",
            "g++ -o /content/PDDLMultiAgent/LAPKT-public/src/memory.o -c -Wall -std=c++11 -O3 -DNDEBUG -I/content/PDDLMultiAgent/LAPKT-public/src -I/content/PDDLMultiAgent/LAPKT-public/include -I/content/PDDLMultiAgent/LAPKT-public/interfaces/agnostic -I/content/PDDLMultiAgent/LAPKT-public/interfaces/ff-wrapped -I/content/PDDLMultiAgent/LAPKT-public/include -I/content/PDDLMultiAgent/LAPKT-public/external -I/content/PDDLMultiAgent/LAPKT-public/interfaces/agnostic -I/content/PDDLMultiAgent/LAPKT-public/interfaces/ff-wrapped -Isrc /content/PDDLMultiAgent/LAPKT-public/src/memory.cxx\n",
            "g++ -o /content/PDDLMultiAgent/LAPKT-public/interfaces/agnostic/action.o -c -Wall -std=c++11 -O3 -DNDEBUG -I/content/PDDLMultiAgent/LAPKT-public/src -I/content/PDDLMultiAgent/LAPKT-public/include -I/content/PDDLMultiAgent/LAPKT-public/interfaces/agnostic -I/content/PDDLMultiAgent/LAPKT-public/interfaces/ff-wrapped -I/content/PDDLMultiAgent/LAPKT-public/include -I/content/PDDLMultiAgent/LAPKT-public/external -I/content/PDDLMultiAgent/LAPKT-public/interfaces/agnostic -I/content/PDDLMultiAgent/LAPKT-public/interfaces/ff-wrapped -Isrc /content/PDDLMultiAgent/LAPKT-public/interfaces/agnostic/action.cxx\n",
            "g++ -o /content/PDDLMultiAgent/LAPKT-public/interfaces/agnostic/cond_eff.o -c -Wall -std=c++11 -O3 -DNDEBUG -I/content/PDDLMultiAgent/LAPKT-public/src -I/content/PDDLMultiAgent/LAPKT-public/include -I/content/PDDLMultiAgent/LAPKT-public/interfaces/agnostic -I/content/PDDLMultiAgent/LAPKT-public/interfaces/ff-wrapped -I/content/PDDLMultiAgent/LAPKT-public/include -I/content/PDDLMultiAgent/LAPKT-public/external -I/content/PDDLMultiAgent/LAPKT-public/interfaces/agnostic -I/content/PDDLMultiAgent/LAPKT-public/interfaces/ff-wrapped -Isrc /content/PDDLMultiAgent/LAPKT-public/interfaces/agnostic/cond_eff.cxx\n",
            "g++ -o /content/PDDLMultiAgent/LAPKT-public/interfaces/agnostic/conj_comp_prob.o -c -Wall -std=c++11 -O3 -DNDEBUG -I/content/PDDLMultiAgent/LAPKT-public/src -I/content/PDDLMultiAgent/LAPKT-public/include -I/content/PDDLMultiAgent/LAPKT-public/interfaces/agnostic -I/content/PDDLMultiAgent/LAPKT-public/interfaces/ff-wrapped -I/content/PDDLMultiAgent/LAPKT-public/include -I/content/PDDLMultiAgent/LAPKT-public/external -I/content/PDDLMultiAgent/LAPKT-public/interfaces/agnostic -I/content/PDDLMultiAgent/LAPKT-public/interfaces/ff-wrapped -Isrc /content/PDDLMultiAgent/LAPKT-public/interfaces/agnostic/conj_comp_prob.cxx\n",
            "g++ -o /content/PDDLMultiAgent/LAPKT-public/interfaces/agnostic/fl_conj.o -c -Wall -std=c++11 -O3 -DNDEBUG -I/content/PDDLMultiAgent/LAPKT-public/src -I/content/PDDLMultiAgent/LAPKT-public/include -I/content/PDDLMultiAgent/LAPKT-public/interfaces/agnostic -I/content/PDDLMultiAgent/LAPKT-public/interfaces/ff-wrapped -I/content/PDDLMultiAgent/LAPKT-public/include -I/content/PDDLMultiAgent/LAPKT-public/external -I/content/PDDLMultiAgent/LAPKT-public/interfaces/agnostic -I/content/PDDLMultiAgent/LAPKT-public/interfaces/ff-wrapped -Isrc /content/PDDLMultiAgent/LAPKT-public/interfaces/agnostic/fl_conj.cxx\n",
            "g++ -o /content/PDDLMultiAgent/LAPKT-public/interfaces/agnostic/fluent.o -c -Wall -std=c++11 -O3 -DNDEBUG -I/content/PDDLMultiAgent/LAPKT-public/src -I/content/PDDLMultiAgent/LAPKT-public/include -I/content/PDDLMultiAgent/LAPKT-public/interfaces/agnostic -I/content/PDDLMultiAgent/LAPKT-public/interfaces/ff-wrapped -I/content/PDDLMultiAgent/LAPKT-public/include -I/content/PDDLMultiAgent/LAPKT-public/external -I/content/PDDLMultiAgent/LAPKT-public/interfaces/agnostic -I/content/PDDLMultiAgent/LAPKT-public/interfaces/ff-wrapped -Isrc /content/PDDLMultiAgent/LAPKT-public/interfaces/agnostic/fluent.cxx\n",
            "g++ -o /content/PDDLMultiAgent/LAPKT-public/interfaces/agnostic/fwd_search_prob.o -c -Wall -std=c++11 -O3 -DNDEBUG -I/content/PDDLMultiAgent/LAPKT-public/src -I/content/PDDLMultiAgent/LAPKT-public/include -I/content/PDDLMultiAgent/LAPKT-public/interfaces/agnostic -I/content/PDDLMultiAgent/LAPKT-public/interfaces/ff-wrapped -I/content/PDDLMultiAgent/LAPKT-public/include -I/content/PDDLMultiAgent/LAPKT-public/external -I/content/PDDLMultiAgent/LAPKT-public/interfaces/agnostic -I/content/PDDLMultiAgent/LAPKT-public/interfaces/ff-wrapped -Isrc /content/PDDLMultiAgent/LAPKT-public/interfaces/agnostic/fwd_search_prob.cxx\n",
            "g++ -o /content/PDDLMultiAgent/LAPKT-public/interfaces/agnostic/landmark_graph.o -c -Wall -std=c++11 -O3 -DNDEBUG -I/content/PDDLMultiAgent/LAPKT-public/src -I/content/PDDLMultiAgent/LAPKT-public/include -I/content/PDDLMultiAgent/LAPKT-public/interfaces/agnostic -I/content/PDDLMultiAgent/LAPKT-public/interfaces/ff-wrapped -I/content/PDDLMultiAgent/LAPKT-public/include -I/content/PDDLMultiAgent/LAPKT-public/external -I/content/PDDLMultiAgent/LAPKT-public/interfaces/agnostic -I/content/PDDLMultiAgent/LAPKT-public/interfaces/ff-wrapped -Isrc /content/PDDLMultiAgent/LAPKT-public/interfaces/agnostic/landmark_graph.cxx\n",
            "g++ -o /content/PDDLMultiAgent/LAPKT-public/interfaces/agnostic/match_tree.o -c -Wall -std=c++11 -O3 -DNDEBUG -I/content/PDDLMultiAgent/LAPKT-public/src -I/content/PDDLMultiAgent/LAPKT-public/include -I/content/PDDLMultiAgent/LAPKT-public/interfaces/agnostic -I/content/PDDLMultiAgent/LAPKT-public/interfaces/ff-wrapped -I/content/PDDLMultiAgent/LAPKT-public/include -I/content/PDDLMultiAgent/LAPKT-public/external -I/content/PDDLMultiAgent/LAPKT-public/interfaces/agnostic -I/content/PDDLMultiAgent/LAPKT-public/interfaces/ff-wrapped -Isrc /content/PDDLMultiAgent/LAPKT-public/interfaces/agnostic/match_tree.cxx\n",
            "g++ -o /content/PDDLMultiAgent/LAPKT-public/interfaces/agnostic/mutex_set.o -c -Wall -std=c++11 -O3 -DNDEBUG -I/content/PDDLMultiAgent/LAPKT-public/src -I/content/PDDLMultiAgent/LAPKT-public/include -I/content/PDDLMultiAgent/LAPKT-public/interfaces/agnostic -I/content/PDDLMultiAgent/LAPKT-public/interfaces/ff-wrapped -I/content/PDDLMultiAgent/LAPKT-public/include -I/content/PDDLMultiAgent/LAPKT-public/external -I/content/PDDLMultiAgent/LAPKT-public/interfaces/agnostic -I/content/PDDLMultiAgent/LAPKT-public/interfaces/ff-wrapped -Isrc /content/PDDLMultiAgent/LAPKT-public/interfaces/agnostic/mutex_set.cxx\n",
            "g++ -o /content/PDDLMultiAgent/LAPKT-public/interfaces/agnostic/reachability.o -c -Wall -std=c++11 -O3 -DNDEBUG -I/content/PDDLMultiAgent/LAPKT-public/src -I/content/PDDLMultiAgent/LAPKT-public/include -I/content/PDDLMultiAgent/LAPKT-public/interfaces/agnostic -I/content/PDDLMultiAgent/LAPKT-public/interfaces/ff-wrapped -I/content/PDDLMultiAgent/LAPKT-public/include -I/content/PDDLMultiAgent/LAPKT-public/external -I/content/PDDLMultiAgent/LAPKT-public/interfaces/agnostic -I/content/PDDLMultiAgent/LAPKT-public/interfaces/ff-wrapped -Isrc /content/PDDLMultiAgent/LAPKT-public/interfaces/agnostic/reachability.cxx\n",
            "g++ -o /content/PDDLMultiAgent/LAPKT-public/interfaces/agnostic/strips_prob.o -c -Wall -std=c++11 -O3 -DNDEBUG -I/content/PDDLMultiAgent/LAPKT-public/src -I/content/PDDLMultiAgent/LAPKT-public/include -I/content/PDDLMultiAgent/LAPKT-public/interfaces/agnostic -I/content/PDDLMultiAgent/LAPKT-public/interfaces/ff-wrapped -I/content/PDDLMultiAgent/LAPKT-public/include -I/content/PDDLMultiAgent/LAPKT-public/external -I/content/PDDLMultiAgent/LAPKT-public/interfaces/agnostic -I/content/PDDLMultiAgent/LAPKT-public/interfaces/ff-wrapped -Isrc /content/PDDLMultiAgent/LAPKT-public/interfaces/agnostic/strips_prob.cxx\n",
            "g++ -o /content/PDDLMultiAgent/LAPKT-public/interfaces/agnostic/strips_state.o -c -Wall -std=c++11 -O3 -DNDEBUG -I/content/PDDLMultiAgent/LAPKT-public/src -I/content/PDDLMultiAgent/LAPKT-public/include -I/content/PDDLMultiAgent/LAPKT-public/interfaces/agnostic -I/content/PDDLMultiAgent/LAPKT-public/interfaces/ff-wrapped -I/content/PDDLMultiAgent/LAPKT-public/include -I/content/PDDLMultiAgent/LAPKT-public/external -I/content/PDDLMultiAgent/LAPKT-public/interfaces/agnostic -I/content/PDDLMultiAgent/LAPKT-public/interfaces/ff-wrapped -Isrc /content/PDDLMultiAgent/LAPKT-public/interfaces/agnostic/strips_state.cxx\n",
            "g++ -o /content/PDDLMultiAgent/LAPKT-public/interfaces/agnostic/succ_gen.o -c -Wall -std=c++11 -O3 -DNDEBUG -I/content/PDDLMultiAgent/LAPKT-public/src -I/content/PDDLMultiAgent/LAPKT-public/include -I/content/PDDLMultiAgent/LAPKT-public/interfaces/agnostic -I/content/PDDLMultiAgent/LAPKT-public/interfaces/ff-wrapped -I/content/PDDLMultiAgent/LAPKT-public/include -I/content/PDDLMultiAgent/LAPKT-public/external -I/content/PDDLMultiAgent/LAPKT-public/interfaces/agnostic -I/content/PDDLMultiAgent/LAPKT-public/interfaces/ff-wrapped -Isrc /content/PDDLMultiAgent/LAPKT-public/interfaces/agnostic/succ_gen.cxx\n",
            "g++ -o /content/PDDLMultiAgent/LAPKT-public/interfaces/agnostic/watched_lit_succ_gen.o -c -Wall -std=c++11 -O3 -DNDEBUG -I/content/PDDLMultiAgent/LAPKT-public/src -I/content/PDDLMultiAgent/LAPKT-public/include -I/content/PDDLMultiAgent/LAPKT-public/interfaces/agnostic -I/content/PDDLMultiAgent/LAPKT-public/interfaces/ff-wrapped -I/content/PDDLMultiAgent/LAPKT-public/include -I/content/PDDLMultiAgent/LAPKT-public/external -I/content/PDDLMultiAgent/LAPKT-public/interfaces/agnostic -I/content/PDDLMultiAgent/LAPKT-public/interfaces/ff-wrapped -Isrc /content/PDDLMultiAgent/LAPKT-public/interfaces/agnostic/watched_lit_succ_gen.cxx\n",
            "g++ -o /content/PDDLMultiAgent/LAPKT-public/interfaces/ff-wrapped/ff_to_aptk.o -c -Wall -std=c++11 -O3 -DNDEBUG -I/content/PDDLMultiAgent/LAPKT-public/src -I/content/PDDLMultiAgent/LAPKT-public/include -I/content/PDDLMultiAgent/LAPKT-public/interfaces/agnostic -I/content/PDDLMultiAgent/LAPKT-public/interfaces/ff-wrapped -I/content/PDDLMultiAgent/LAPKT-public/include -I/content/PDDLMultiAgent/LAPKT-public/external -I/content/PDDLMultiAgent/LAPKT-public/interfaces/agnostic -I/content/PDDLMultiAgent/LAPKT-public/interfaces/ff-wrapped -Isrc /content/PDDLMultiAgent/LAPKT-public/interfaces/ff-wrapped/ff_to_aptk.cxx\n",
            "g++ -o siw-then-bfsf -static src/main.o /content/PDDLMultiAgent/LAPKT-public/src/bit_array.o /content/PDDLMultiAgent/LAPKT-public/src/bit_set.o /content/PDDLMultiAgent/LAPKT-public/src/memory.o /content/PDDLMultiAgent/LAPKT-public/interfaces/agnostic/action.o /content/PDDLMultiAgent/LAPKT-public/interfaces/agnostic/cond_eff.o /content/PDDLMultiAgent/LAPKT-public/interfaces/agnostic/conj_comp_prob.o /content/PDDLMultiAgent/LAPKT-public/interfaces/agnostic/fl_conj.o /content/PDDLMultiAgent/LAPKT-public/interfaces/agnostic/fluent.o /content/PDDLMultiAgent/LAPKT-public/interfaces/agnostic/fwd_search_prob.o /content/PDDLMultiAgent/LAPKT-public/interfaces/agnostic/landmark_graph.o /content/PDDLMultiAgent/LAPKT-public/interfaces/agnostic/match_tree.o /content/PDDLMultiAgent/LAPKT-public/interfaces/agnostic/mutex_set.o /content/PDDLMultiAgent/LAPKT-public/interfaces/agnostic/reachability.o /content/PDDLMultiAgent/LAPKT-public/interfaces/agnostic/strips_prob.o /content/PDDLMultiAgent/LAPKT-public/interfaces/agnostic/strips_state.o /content/PDDLMultiAgent/LAPKT-public/interfaces/agnostic/succ_gen.o /content/PDDLMultiAgent/LAPKT-public/interfaces/agnostic/watched_lit_succ_gen.o /content/PDDLMultiAgent/LAPKT-public/interfaces/ff-wrapped/ff_to_aptk.o -L/content/PDDLMultiAgent/LAPKT-public/external/libff -lff -lboost_program_options\n",
            "scons: done building targets.\n"
          ]
        }
      ]
    },
    {
      "cell_type": "code",
      "source": [
        "%cd ../../external/libff\n",
        "!make clean\n",
        "!make depend\n",
        "!make"
      ],
      "metadata": {
        "colab": {
          "base_uri": "https://localhost:8080/"
        },
        "id": "Xv31FP3K-Rsb",
        "outputId": "9246ad55-4f54-41ee-e313-45bbfa51f643"
      },
      "execution_count": null,
      "outputs": [
        {
          "output_type": "stream",
          "name": "stdout",
          "text": [
            "/content/PDDLMultiAgent/LAPKT-public/external/libff\n",
            "rm -f *.o *.bak *~ *% core *_pure_p9_c0_400.o.warnings test_lib \\\n",
            "        \\#*\\#  scan-fct_pddl.tab.c scan-ops_pddl.tab.c scan-probname.tab.c lex.fct_pddl.c lex.ops_pddl.c \n",
            "makedepend -- main.c memory.c output.c parse.c expressions.c inst_pre.c inst_easy.c inst_hard.c inst_final.c relax.c search.c utility.c  libff.c memory.c output.c parse.c expressions.c inst_pre.c inst_easy.c inst_hard.c inst_final.c relax.c search.c utility.c scan-fct_pddl.tab.c scan-ops_pddl.tab.c scan-probname.tab.c lex.fct_pddl.c lex.ops_pddl.c  test_main.cxx\n",
            "makedepend: warning:  main.c (reading /usr/include/stdlib.h, line 25): cannot find include file \"bits/libc-header-start.h\"\n",
            "\tnot in /usr/include/bits/libc-header-start.h\n",
            "makedepend: warning:  main.c (reading /usr/include/stdlib.h, line 31): cannot find include file \"stddef.h\"\n",
            "\tnot in /usr/include/stddef.h\n",
            "makedepend: warning:  main.c (reading /usr/include/stdlib.h, line 55): cannot find include file \"bits/floatn.h\"\n",
            "\tnot in /usr/include/bits/floatn.h\n",
            "makedepend: warning:  main.c (reading /usr/include/stdlib.h, line 1016): cannot find include file \"bits/stdlib-float.h\"\n",
            "\tnot in /usr/include/bits/stdlib-float.h\n",
            "makedepend: warning:  main.c (reading /usr/include/stdio.h, line 27): cannot find include file \"bits/libc-header-start.h\"\n",
            "\tnot in /usr/include/bits/libc-header-start.h\n",
            "makedepend: warning:  main.c (reading /usr/include/stdio.h, line 33): cannot find include file \"stddef.h\"\n",
            "\tnot in /usr/include/stddef.h\n",
            "makedepend: warning:  main.c (reading /usr/include/stdio.h, line 35): cannot find include file \"bits/types.h\"\n",
            "\tnot in /usr/include/bits/types.h\n",
            "makedepend: warning:  main.c (reading /usr/include/stdio.h, line 36): cannot find include file \"bits/types/__FILE.h\"\n",
            "\tnot in /usr/include/bits/types/__FILE.h\n",
            "makedepend: warning:  main.c (reading /usr/include/stdio.h, line 37): cannot find include file \"bits/types/FILE.h\"\n",
            "\tnot in /usr/include/bits/types/FILE.h\n",
            "makedepend: warning:  main.c (reading /usr/include/stdio.h, line 41): cannot find include file \"bits/libio.h\"\n",
            "\tnot in /usr/include/bits/libio.h\n",
            "makedepend: warning:  main.c (reading /usr/include/stdio.h, line 131): cannot find include file \"bits/stdio_lim.h\"\n",
            "\tnot in /usr/include/bits/stdio_lim.h\n",
            "makedepend: warning:  main.c (reading /usr/include/stdio.h, line 781): cannot find include file \"bits/sys_errlist.h\"\n",
            "\tnot in /usr/include/bits/sys_errlist.h\n",
            "makedepend: warning:  main.c (reading /usr/include/features.h, line 424): cannot find include file \"sys/cdefs.h\"\n",
            "\tnot in /usr/include/sys/cdefs.h\n",
            "makedepend: warning:  main.c (reading /usr/include/features.h, line 448): cannot find include file \"gnu/stubs.h\"\n",
            "\tnot in /usr/include/gnu/stubs.h\n",
            "makedepend: warning:  main.c (reading /usr/include/strings.h, line 23): cannot find include file \"stddef.h\"\n",
            "\tnot in /usr/include/stddef.h\n",
            "makedepend: warning:  main.c (reading /usr/include/strings.h, line 125): cannot find include file \"bits/types/locale_t.h\"\n",
            "\tnot in /usr/include/bits/types/locale_t.h\n",
            "makedepend: warning:  main.c (reading /usr/include/ctype.h, line 26): cannot find include file \"bits/types.h\"\n",
            "\tnot in /usr/include/bits/types.h\n",
            "makedepend: warning:  main.c (reading /usr/include/endian.h, line 36): cannot find include file \"bits/endian.h\"\n",
            "\tnot in /usr/include/bits/endian.h\n",
            "makedepend: warning:  main.c (reading /usr/include/endian.h, line 60): cannot find include file \"bits/byteswap.h\"\n",
            "\tnot in /usr/include/bits/byteswap.h\n",
            "makedepend: warning:  main.c (reading /usr/include/endian.h, line 61): cannot find include file \"bits/uintn-identity.h\"\n",
            "\tnot in /usr/include/bits/uintn-identity.h\n",
            "makedepend: warning:  main.c (reading /usr/include/ctype.h, line 237): cannot find include file \"bits/types/locale_t.h\"\n",
            "\tnot in /usr/include/bits/types/locale_t.h\n",
            "makedepend: warning:  main.c (reading ff.h, line 72): cannot find include file \"sys/types.h\"\n",
            "\tnot in /usr/include/sys/types.h\n",
            "makedepend: warning:  main.c (reading ff.h, line 73): cannot find include file \"sys/timeb.h\"\n",
            "\tnot in /usr/include/sys/timeb.h\n",
            "makedepend: warning:  main.c (reading ff.h, line 74): cannot find include file \"sys/times.h\"\n",
            "\tnot in /usr/include/sys/times.h\n",
            "makedepend: warning:  main.c (reading /usr/include/string.h, line 26): cannot find include file \"bits/libc-header-start.h\"\n",
            "\tnot in /usr/include/bits/libc-header-start.h\n",
            "makedepend: warning:  main.c (reading /usr/include/string.h, line 33): cannot find include file \"stddef.h\"\n",
            "\tnot in /usr/include/stddef.h\n",
            "makedepend: warning:  main.c (reading /usr/include/string.h, line 152): cannot find include file \"bits/types/locale_t.h\"\n",
            "\tnot in /usr/include/bits/types/locale_t.h\n",
            "makedepend: warning:  cannot open \"scan-fct_pddl.tab.c\"\n",
            "makedepend: warning:  cannot open \"scan-ops_pddl.tab.c\"\n",
            "makedepend: warning:  cannot open \"scan-probname.tab.c\"\n",
            "makedepend: warning:  cannot open \"lex.fct_pddl.c\"\n",
            "makedepend: warning:  cannot open \"lex.ops_pddl.c\"\n",
            "makedepend: warning:  test_main.cxx, line 3: cannot find include file \"iostream\"\n",
            "\tnot in /usr/include/iostream\n",
            "makedepend: warning:  test_main.cxx, line 4: cannot find include file \"fstream\"\n",
            "\tnot in /usr/include/fstream\n",
            "gcc -c -O6 -Wall -ansi   libff.c\n",
            "In file included from \u001b[01m\u001b[Klibff.c:1:0\u001b[m\u001b[K:\n",
            "\u001b[01m\u001b[Klibff.h:458:8:\u001b[m\u001b[K \u001b[01;35m\u001b[Kwarning: \u001b[m\u001b[Kextra tokens at end of #endif directive [\u001b[01;35m\u001b[K-Wendif-labels\u001b[m\u001b[K]\n",
            " #endif \u001b[01;35m\u001b[K/\u001b[m\u001b[K/libff.h\n",
            "        \u001b[01;35m\u001b[K^\u001b[m\u001b[K\n",
            "\u001b[01m\u001b[Klibff.c:\u001b[m\u001b[K In function ‘\u001b[01m\u001b[KFF_reinitialize_globals\u001b[m\u001b[K’:\n",
            "\u001b[01m\u001b[Klibff.c:414:2:\u001b[m\u001b[K \u001b[01;35m\u001b[Kwarning: \u001b[m\u001b[Kstatement with no effect [\u001b[01;35m\u001b[K-Wunused-value\u001b[m\u001b[K]\n",
            "  \u001b[01;35m\u001b[Kgnum_actions\u001b[m\u001b[K;\n",
            "  \u001b[01;35m\u001b[K^~~~~~~~~~~~\u001b[m\u001b[K\n",
            "\u001b[01m\u001b[Klibff.c:\u001b[m\u001b[K In function ‘\u001b[01m\u001b[KFF_parse_problem\u001b[m\u001b[K’:\n",
            "\u001b[01m\u001b[Klibff.c:454:2:\u001b[m\u001b[K \u001b[01;35m\u001b[Kwarning: \u001b[m\u001b[Kimplicit declaration of function ‘\u001b[01m\u001b[Ksnprintf\u001b[m\u001b[K’; did you mean ‘\u001b[01m\u001b[Ksprintf\u001b[m\u001b[K’? [\u001b[01;35m\u001b[K-Wimplicit-function-declaration\u001b[m\u001b[K]\n",
            "  \u001b[01;35m\u001b[Ksnprintf\u001b[m\u001b[K( ops_file, MAX_LENGTH, \"%s\", domain_file );\n",
            "  \u001b[01;35m\u001b[K^~~~~~~~\u001b[m\u001b[K\n",
            "  \u001b[32m\u001b[Ksprintf\u001b[m\u001b[K\n",
            "gcc -c -O6 -Wall -ansi   memory.c\n",
            "gcc -c -O6 -Wall -ansi   output.c\n",
            "gcc -c -O6 -Wall -ansi   parse.c\n",
            "gcc -c -O6 -Wall -ansi   expressions.c\n",
            "gcc -c -O6 -Wall -ansi   inst_pre.c\n",
            "gcc -c -O6 -Wall -ansi   inst_easy.c\n",
            "In file included from \u001b[01m\u001b[Kinst_easy.c:66:0\u001b[m\u001b[K:\n",
            "\u001b[01m\u001b[Kinst_easy.c:\u001b[m\u001b[K In function ‘\u001b[01m\u001b[Kmultiply_easy_non_constrained_effect_parameters\u001b[m\u001b[K’:\n",
            "\u001b[01m\u001b[Kff.h:319:37:\u001b[m\u001b[K \u001b[01;35m\u001b[Kwarning: \u001b[m\u001b[K‘\u001b[01m\u001b[K*\u001b[m\u001b[K’ in boolean context, suggest ‘\u001b[01m\u001b[K&&\u001b[m\u001b[K’ instead [\u001b[01;35m\u001b[K-Wint-in-bool-context\u001b[m\u001b[K]\n",
            " #define DECODE_VAR( val ) \u001b[01;35m\u001b[K(val + 1) * (-1)\u001b[m\u001b[K\n",
            "                           \u001b[01;35m\u001b[K~~~~~~~~~~^~~~~~\u001b[m\u001b[K\n",
            "\u001b[01m\u001b[Kinst_easy.c:944:9:\u001b[m\u001b[K \u001b[01;36m\u001b[Knote: \u001b[m\u001b[Kin expansion of macro ‘\u001b[01m\u001b[KDECODE_VAR\u001b[m\u001b[K’\n",
            "         \u001b[01;36m\u001b[KDECODE_VAR\u001b[m\u001b[K( tmp->conditions[i].args[j] < lo->num_vars ) ) {\n",
            "         \u001b[01;36m\u001b[K^~~~~~~~~~\u001b[m\u001b[K\n",
            "gcc -c -O6 -Wall -ansi   inst_hard.c\n",
            "gcc -c -O6 -Wall -ansi   inst_final.c\n",
            "\u001b[01m\u001b[Kinst_final.c:\u001b[m\u001b[K In function ‘\u001b[01m\u001b[Kbuild_connectivity_graph\u001b[m\u001b[K’:\n",
            "\u001b[01m\u001b[Kinst_final.c:1932:3:\u001b[m\u001b[K \u001b[01;35m\u001b[Kwarning: \u001b[m\u001b[Kimplicit declaration of function ‘\u001b[01m\u001b[Ksrandom\u001b[m\u001b[K’; did you mean ‘\u001b[01m\u001b[Ksrand\u001b[m\u001b[K’? [\u001b[01;35m\u001b[K-Wimplicit-function-declaration\u001b[m\u001b[K]\n",
            "   \u001b[01;35m\u001b[Ksrandom\u001b[m\u001b[K( tp.millitm );\n",
            "   \u001b[01;35m\u001b[K^~~~~~~\u001b[m\u001b[K\n",
            "   \u001b[32m\u001b[Ksrand\u001b[m\u001b[K\n",
            "\u001b[01m\u001b[Kinst_final.c:1948:24:\u001b[m\u001b[K \u001b[01;35m\u001b[Kwarning: \u001b[m\u001b[Kimplicit declaration of function ‘\u001b[01m\u001b[Krandom\u001b[m\u001b[K’; did you mean ‘\u001b[01m\u001b[Krand\u001b[m\u001b[K’? [\u001b[01;35m\u001b[K-Wimplicit-function-declaration\u001b[m\u001b[K]\n",
            "     gft_conn[i].rand = \u001b[01;35m\u001b[Krandom\u001b[m\u001b[K() % BIG_INT;\n",
            "                        \u001b[01;35m\u001b[K^~~~~~\u001b[m\u001b[K\n",
            "                        \u001b[32m\u001b[Krand\u001b[m\u001b[K\n",
            "gcc -c -O6 -Wall -ansi   relax.c\n",
            "gcc -c -O6 -Wall -ansi   search.c\n",
            "\u001b[01m\u001b[Ksearch.c:\u001b[m\u001b[K In function ‘\u001b[01m\u001b[Kdo_best_first_search\u001b[m\u001b[K’:\n",
            "\u001b[01m\u001b[Ksearch.c:936:5:\u001b[m\u001b[K \u001b[01;35m\u001b[Kwarning: \u001b[m\u001b[Kimplicit declaration of function ‘\u001b[01m\u001b[Kprint_state\u001b[m\u001b[K’; did you mean ‘\u001b[01m\u001b[Kprint_State\u001b[m\u001b[K’? [\u001b[01;35m\u001b[K-Wimplicit-function-declaration\u001b[m\u001b[K]\n",
            "     \u001b[01;35m\u001b[Kprint_state\u001b[m\u001b[K( &(first->S) );\n",
            "     \u001b[01;35m\u001b[K^~~~~~~~~~~\u001b[m\u001b[K\n",
            "     \u001b[32m\u001b[Kprint_State\u001b[m\u001b[K\n",
            "gcc -c -O6 -Wall -ansi   utility.c\n",
            "flex -Pfct_pddl lex-fct_pddl.l\n",
            "bison -pfct_pddl -bscan-fct_pddl scan-fct_pddl.y\n",
            "scan-fct_pddl.y: warning: 1 nonterminal useless in grammar [-Wother]\n",
            "scan-fct_pddl.y: warning: 2 rules useless in grammar [-Wother]\n",
            "scan-fct_pddl.y:135.17-33: warning: nonterminal useless in grammar: literal_name_plus [-Wother]\n",
            " %type <pPlNode> literal_name_plus\n",
            "                 ^^^^^^^^^^^^^^^^^\n",
            "scan-fct_pddl.y:814.1-817.1: warning: rule useless in grammar [-Wother]\n",
            " literal_name\n",
            " ^^^^^^^^^^^^\n",
            "scan-fct_pddl.y:819.1-823.1: warning: rule useless in grammar [-Wother]\n",
            " literal_name literal_name_plus\n",
            " ^^^^^^^^^^^^^^^^^^^^^^^^^^^^^^\n",
            "scan-fct_pddl.y: warning: 1 shift/reduce conflict [-Wconflicts-sr]\n",
            "scan-fct_pddl.y: warning: 1 reduce/reduce conflict [-Wconflicts-rr]\n",
            "gcc -c -O6 -Wall -ansi   scan-fct_pddl.tab.c\n",
            "\u001b[01m\u001b[Kscan-fct_pddl.tab.c:\u001b[m\u001b[K In function ‘\u001b[01m\u001b[Kfct_pddlparse\u001b[m\u001b[K’:\n",
            "\u001b[01m\u001b[Kscan-fct_pddl.tab.c:64:25:\u001b[m\u001b[K \u001b[01;35m\u001b[Kwarning: \u001b[m\u001b[Kimplicit declaration of function ‘\u001b[01m\u001b[Kfct_pddllex\u001b[m\u001b[K’; did you mean ‘\u001b[01m\u001b[Kfct_pddlparse\u001b[m\u001b[K’? [\u001b[01;35m\u001b[K-Wimplicit-function-declaration\u001b[m\u001b[K]\n",
            " #define yylex           \u001b[01;35m\u001b[Kf\u001b[m\u001b[Kct_pddllex\n",
            "                         \u001b[01;35m\u001b[K^\u001b[m\u001b[K\n",
            "\u001b[01m\u001b[Kscan-fct_pddl.tab.c:1382:16:\u001b[m\u001b[K \u001b[01;36m\u001b[Knote: \u001b[m\u001b[Kin expansion of macro ‘\u001b[01m\u001b[Kyylex\u001b[m\u001b[K’\n",
            "       yychar = \u001b[01;36m\u001b[Kyylex\u001b[m\u001b[K ();\n",
            "                \u001b[01;36m\u001b[K^~~~~\u001b[m\u001b[K\n",
            "\u001b[01m\u001b[Kscan-fct_pddl.y:194:3:\u001b[m\u001b[K \u001b[01;35m\u001b[Kwarning: \u001b[m\u001b[Kimplicit declaration of function ‘\u001b[01m\u001b[Kfcterr\u001b[m\u001b[K’; did you mean ‘\u001b[01m\u001b[Kftell\u001b[m\u001b[K’? [\u001b[01;35m\u001b[K-Wimplicit-function-declaration\u001b[m\u001b[K]\n",
            "   \u001b[01;35m\u001b[Kfcterr\u001b[m\u001b[K( PROBNAME_EXPECTED, NULL );\n",
            "   \u001b[01;35m\u001b[K^~~~~~\u001b[m\u001b[K\n",
            "   \u001b[32m\u001b[Kftell\u001b[m\u001b[K\n",
            "\u001b[01m\u001b[Kscan-fct_pddl.tab.c:65:25:\u001b[m\u001b[K \u001b[01;35m\u001b[Kwarning: \u001b[m\u001b[Kimplicit declaration of function ‘\u001b[01m\u001b[Kfct_pddlerror\u001b[m\u001b[K’; did you mean ‘\u001b[01m\u001b[Kfct_pddlparse\u001b[m\u001b[K’? [\u001b[01;35m\u001b[K-Wimplicit-function-declaration\u001b[m\u001b[K]\n",
            " #define yyerror         \u001b[01;35m\u001b[Kf\u001b[m\u001b[Kct_pddlerror\n",
            "                         \u001b[01;35m\u001b[K^\u001b[m\u001b[K\n",
            "\u001b[01m\u001b[Kscan-fct_pddl.y:222:5:\u001b[m\u001b[K \u001b[01;36m\u001b[Knote: \u001b[m\u001b[Kin expansion of macro ‘\u001b[01m\u001b[Kyyerror\u001b[m\u001b[K’\n",
            "     \u001b[01;36m\u001b[Kyyerror\u001b[m\u001b[K();\n",
            "     \u001b[01;36m\u001b[K^~~~~~~\u001b[m\u001b[K\n",
            "In file included from \u001b[01m\u001b[Kscan-fct_pddl.y:876:0\u001b[m\u001b[K:\n",
            "\u001b[01m\u001b[Klex.fct_pddl.c:\u001b[m\u001b[K At top level:\n",
            "\u001b[01m\u001b[Klex.fct_pddl.c:28:16:\u001b[m\u001b[K \u001b[01;35m\u001b[Kwarning: \u001b[m\u001b[Kprototype for ‘\u001b[01m\u001b[Kfct_pddlwrap\u001b[m\u001b[K’ follows non-prototype definition\n",
            " #define yywrap \u001b[01;35m\u001b[Kf\u001b[m\u001b[Kct_pddlwrap\n",
            "                \u001b[01;35m\u001b[K^\u001b[m\u001b[K\n",
            "\u001b[01m\u001b[Klex.fct_pddl.c:913:12:\u001b[m\u001b[K \u001b[01;36m\u001b[Knote: \u001b[m\u001b[Kin expansion of macro ‘\u001b[01m\u001b[Kyywrap\u001b[m\u001b[K’\n",
            " extern int \u001b[01;36m\u001b[Kyywrap\u001b[m\u001b[K ( void );\n",
            "            \u001b[01;36m\u001b[K^~~~~~\u001b[m\u001b[K\n",
            "In file included from \u001b[01m\u001b[Kscan-fct_pddl.y:876:0\u001b[m\u001b[K:\n",
            "\u001b[01m\u001b[Klex.fct_pddl.c:\u001b[m\u001b[K In function ‘\u001b[01m\u001b[Kfct_pddl_init_buffer\u001b[m\u001b[K’:\n",
            "\u001b[01m\u001b[Klex.fct_pddl.c:1962:48:\u001b[m\u001b[K \u001b[01;35m\u001b[Kwarning: \u001b[m\u001b[Kimplicit declaration of function ‘\u001b[01m\u001b[Kfileno\u001b[m\u001b[K’; did you mean ‘\u001b[01m\u001b[Kmblen\u001b[m\u001b[K’? [\u001b[01;35m\u001b[K-Wimplicit-function-declaration\u001b[m\u001b[K]\n",
            "         b->yy_is_interactive = file ? (isatty( \u001b[01;35m\u001b[Kfileno\u001b[m\u001b[K(file) ) > 0) : 0;\n",
            "                                                \u001b[01;35m\u001b[K^~~~~~\u001b[m\u001b[K\n",
            "                                                \u001b[32m\u001b[Kmblen\u001b[m\u001b[K\n",
            "\u001b[01m\u001b[Kscan-fct_pddl.y:\u001b[m\u001b[K At top level:\n",
            "\u001b[01m\u001b[Kscan-fct_pddl.y:887:6:\u001b[m\u001b[K \u001b[01;35m\u001b[Kwarning: \u001b[m\u001b[Kconflicting types for ‘\u001b[01m\u001b[Kfcterr\u001b[m\u001b[K’\n",
            " void \u001b[01;35m\u001b[Kfcterr\u001b[m\u001b[K( int errno, char *par ) {\n",
            "      \u001b[01;35m\u001b[K^~~~~~\u001b[m\u001b[K\n",
            "\u001b[01m\u001b[Kscan-fct_pddl.y:194:3:\u001b[m\u001b[K \u001b[01;36m\u001b[Knote: \u001b[m\u001b[Kprevious implicit declaration of ‘\u001b[01m\u001b[Kfcterr\u001b[m\u001b[K’ was here\n",
            "   \u001b[01;36m\u001b[Kfcterr\u001b[m\u001b[K( PROBNAME_EXPECTED, NULL );\n",
            "   \u001b[01;36m\u001b[K^~~~~~\u001b[m\u001b[K\n",
            "In file included from \u001b[01m\u001b[Kscan-fct_pddl.y:876:0\u001b[m\u001b[K:\n",
            "\u001b[01m\u001b[Klex.fct_pddl.c:1759:16:\u001b[m\u001b[K \u001b[01;35m\u001b[Kwarning: \u001b[m\u001b[K‘\u001b[01m\u001b[Kinput\u001b[m\u001b[K’ defined but not used [\u001b[01;35m\u001b[K-Wunused-function\u001b[m\u001b[K]\n",
            "     static int \u001b[01;35m\u001b[Kinput\u001b[m\u001b[K  (void)\n",
            "                \u001b[01;35m\u001b[K^~~~~\u001b[m\u001b[K\n",
            "\u001b[01m\u001b[Klex.fct_pddl.c:1716:17:\u001b[m\u001b[K \u001b[01;35m\u001b[Kwarning: \u001b[m\u001b[K‘\u001b[01m\u001b[Kyyunput\u001b[m\u001b[K’ defined but not used [\u001b[01;35m\u001b[K-Wunused-function\u001b[m\u001b[K]\n",
            "     static void \u001b[01;35m\u001b[Kyyunput\u001b[m\u001b[K (int c, char * yy_bp )\n",
            "                 \u001b[01;35m\u001b[K^~~~~~~\u001b[m\u001b[K\n",
            "flex -Pops_pddl lex-ops_pddl.l\n",
            "bison -pops_pddl -bscan-ops_pddl scan-ops_pddl.y\n",
            "scan-ops_pddl.y: warning: 1 shift/reduce conflict [-Wconflicts-sr]\n",
            "gcc -c -O6 -Wall -ansi   scan-ops_pddl.tab.c\n",
            "\u001b[01m\u001b[Kscan-ops_pddl.tab.c:\u001b[m\u001b[K In function ‘\u001b[01m\u001b[Kops_pddlparse\u001b[m\u001b[K’:\n",
            "\u001b[01m\u001b[Kscan-ops_pddl.tab.c:64:25:\u001b[m\u001b[K \u001b[01;35m\u001b[Kwarning: \u001b[m\u001b[Kimplicit declaration of function ‘\u001b[01m\u001b[Kops_pddllex\u001b[m\u001b[K’; did you mean ‘\u001b[01m\u001b[Kops_pddlparse\u001b[m\u001b[K’? [\u001b[01;35m\u001b[K-Wimplicit-function-declaration\u001b[m\u001b[K]\n",
            " #define yylex           \u001b[01;35m\u001b[Ko\u001b[m\u001b[Kps_pddllex\n",
            "                         \u001b[01;35m\u001b[K^\u001b[m\u001b[K\n",
            "\u001b[01m\u001b[Kscan-ops_pddl.tab.c:1439:16:\u001b[m\u001b[K \u001b[01;36m\u001b[Knote: \u001b[m\u001b[Kin expansion of macro ‘\u001b[01m\u001b[Kyylex\u001b[m\u001b[K’\n",
            "       yychar = \u001b[01;36m\u001b[Kyylex\u001b[m\u001b[K ();\n",
            "                \u001b[01;36m\u001b[K^~~~~\u001b[m\u001b[K\n",
            "\u001b[01m\u001b[Kscan-ops_pddl.y:205:3:\u001b[m\u001b[K \u001b[01;35m\u001b[Kwarning: \u001b[m\u001b[Kimplicit declaration of function ‘\u001b[01m\u001b[Kopserr\u001b[m\u001b[K’; did you mean ‘\u001b[01m\u001b[Kstderr\u001b[m\u001b[K’? [\u001b[01;35m\u001b[K-Wimplicit-function-declaration\u001b[m\u001b[K]\n",
            "   \u001b[01;35m\u001b[Kopserr\u001b[m\u001b[K( DOMDEF_EXPECTED, NULL );\n",
            "   \u001b[01;35m\u001b[K^~~~~~\u001b[m\u001b[K\n",
            "   \u001b[32m\u001b[Kstderr\u001b[m\u001b[K\n",
            "\u001b[01m\u001b[Kscan-ops_pddl.tab.c:65:25:\u001b[m\u001b[K \u001b[01;35m\u001b[Kwarning: \u001b[m\u001b[Kimplicit declaration of function ‘\u001b[01m\u001b[Kops_pddlerror\u001b[m\u001b[K’; did you mean ‘\u001b[01m\u001b[Kops_pddlparse\u001b[m\u001b[K’? [\u001b[01;35m\u001b[K-Wimplicit-function-declaration\u001b[m\u001b[K]\n",
            " #define yyerror         \u001b[01;35m\u001b[Ko\u001b[m\u001b[Kps_pddlerror\n",
            "                         \u001b[01;35m\u001b[K^\u001b[m\u001b[K\n",
            "\u001b[01m\u001b[Kscan-ops_pddl.y:379:5:\u001b[m\u001b[K \u001b[01;36m\u001b[Knote: \u001b[m\u001b[Kin expansion of macro ‘\u001b[01m\u001b[Kyyerror\u001b[m\u001b[K’\n",
            "     \u001b[01;36m\u001b[Kyyerror\u001b[m\u001b[K();\n",
            "     \u001b[01;36m\u001b[K^~~~~~~\u001b[m\u001b[K\n",
            "In file included from \u001b[01m\u001b[Kscan-ops_pddl.y:994:0\u001b[m\u001b[K:\n",
            "\u001b[01m\u001b[Klex.ops_pddl.c:\u001b[m\u001b[K At top level:\n",
            "\u001b[01m\u001b[Klex.ops_pddl.c:28:16:\u001b[m\u001b[K \u001b[01;35m\u001b[Kwarning: \u001b[m\u001b[Kprototype for ‘\u001b[01m\u001b[Kops_pddlwrap\u001b[m\u001b[K’ follows non-prototype definition\n",
            " #define yywrap \u001b[01;35m\u001b[Ko\u001b[m\u001b[Kps_pddlwrap\n",
            "                \u001b[01;35m\u001b[K^\u001b[m\u001b[K\n",
            "\u001b[01m\u001b[Klex.ops_pddl.c:928:12:\u001b[m\u001b[K \u001b[01;36m\u001b[Knote: \u001b[m\u001b[Kin expansion of macro ‘\u001b[01m\u001b[Kyywrap\u001b[m\u001b[K’\n",
            " extern int \u001b[01;36m\u001b[Kyywrap\u001b[m\u001b[K ( void );\n",
            "            \u001b[01;36m\u001b[K^~~~~~\u001b[m\u001b[K\n",
            "In file included from \u001b[01m\u001b[Kscan-ops_pddl.y:994:0\u001b[m\u001b[K:\n",
            "\u001b[01m\u001b[Klex.ops_pddl.c:\u001b[m\u001b[K In function ‘\u001b[01m\u001b[Kops_pddl_init_buffer\u001b[m\u001b[K’:\n",
            "\u001b[01m\u001b[Klex.ops_pddl.c:2003:48:\u001b[m\u001b[K \u001b[01;35m\u001b[Kwarning: \u001b[m\u001b[Kimplicit declaration of function ‘\u001b[01m\u001b[Kfileno\u001b[m\u001b[K’; did you mean ‘\u001b[01m\u001b[Kmblen\u001b[m\u001b[K’? [\u001b[01;35m\u001b[K-Wimplicit-function-declaration\u001b[m\u001b[K]\n",
            "         b->yy_is_interactive = file ? (isatty( \u001b[01;35m\u001b[Kfileno\u001b[m\u001b[K(file) ) > 0) : 0;\n",
            "                                                \u001b[01;35m\u001b[K^~~~~~\u001b[m\u001b[K\n",
            "                                                \u001b[32m\u001b[Kmblen\u001b[m\u001b[K\n",
            "\u001b[01m\u001b[Kscan-ops_pddl.y:\u001b[m\u001b[K At top level:\n",
            "\u001b[01m\u001b[Kscan-ops_pddl.y:1005:6:\u001b[m\u001b[K \u001b[01;35m\u001b[Kwarning: \u001b[m\u001b[Kconflicting types for ‘\u001b[01m\u001b[Kopserr\u001b[m\u001b[K’\n",
            " void \u001b[01;35m\u001b[Kopserr\u001b[m\u001b[K( int errno, char *par )\n",
            "      \u001b[01;35m\u001b[K^~~~~~\u001b[m\u001b[K\n",
            "\u001b[01m\u001b[Kscan-ops_pddl.y:205:3:\u001b[m\u001b[K \u001b[01;36m\u001b[Knote: \u001b[m\u001b[Kprevious implicit declaration of ‘\u001b[01m\u001b[Kopserr\u001b[m\u001b[K’ was here\n",
            "   \u001b[01;36m\u001b[Kopserr\u001b[m\u001b[K( DOMDEF_EXPECTED, NULL );\n",
            "   \u001b[01;36m\u001b[K^~~~~~\u001b[m\u001b[K\n",
            "In file included from \u001b[01m\u001b[Kscan-ops_pddl.y:994:0\u001b[m\u001b[K:\n",
            "\u001b[01m\u001b[Klex.ops_pddl.c:1800:16:\u001b[m\u001b[K \u001b[01;35m\u001b[Kwarning: \u001b[m\u001b[K‘\u001b[01m\u001b[Kinput\u001b[m\u001b[K’ defined but not used [\u001b[01;35m\u001b[K-Wunused-function\u001b[m\u001b[K]\n",
            "     static int \u001b[01;35m\u001b[Kinput\u001b[m\u001b[K  (void)\n",
            "                \u001b[01;35m\u001b[K^~~~~\u001b[m\u001b[K\n",
            "\u001b[01m\u001b[Klex.ops_pddl.c:1757:17:\u001b[m\u001b[K \u001b[01;35m\u001b[Kwarning: \u001b[m\u001b[K‘\u001b[01m\u001b[Kyyunput\u001b[m\u001b[K’ defined but not used [\u001b[01;35m\u001b[K-Wunused-function\u001b[m\u001b[K]\n",
            "     static void \u001b[01;35m\u001b[Kyyunput\u001b[m\u001b[K (int c, char * yy_bp )\n",
            "                 \u001b[01;35m\u001b[K^~~~~~~\u001b[m\u001b[K\n",
            "ar cru libff.a libff.o memory.o output.o parse.o expressions.o inst_pre.o inst_easy.o inst_hard.o inst_final.o relax.o search.o utility.o scan-fct_pddl.tab.o scan-ops_pddl.tab.o \n",
            "ar: `u' modifier ignored since `D' is the default (see `U')\n"
          ]
        }
      ]
    },
    {
      "cell_type": "markdown",
      "source": [
        "# Sample Run a planner"
      ],
      "metadata": {
        "id": "kZ5xS0_SGkWi"
      }
    },
    {
      "cell_type": "code",
      "source": [
        "root_dir = \"/content/PDDLMultiAgent\"\n",
        "%cd $root_dir"
      ],
      "metadata": {
        "colab": {
          "base_uri": "https://localhost:8080/"
        },
        "id": "oyCZ9AZbH1Ij",
        "outputId": "c03304af-99ca-43d7-bc5e-54f6fec32f6d"
      },
      "execution_count": null,
      "outputs": [
        {
          "output_type": "stream",
          "name": "stdout",
          "text": [
            "/content/PDDLMultiAgent\n"
          ]
        }
      ]
    },
    {
      "cell_type": "markdown",
      "source": [
        "## Implement customize siw-then-bfsf planner wrapper\n",
        "\n",
        "The planner wrapper from the repo does not work as it depends on a symlink on github. "
      ],
      "metadata": {
        "id": "h5TsknL4G3bF"
      }
    },
    {
      "cell_type": "code",
      "source": [
        "import subprocess\n",
        "import os\n",
        "import pdb\n",
        "import utils_env_parser\n",
        "import urllib.request as urllibreq\n",
        "import urllib\n",
        "import argparse\n",
        "import json, sys\n",
        "import time"
      ],
      "metadata": {
        "id": "lRSt885_HfQs"
      },
      "execution_count": null,
      "outputs": []
    },
    {
      "cell_type": "code",
      "source": [
        "planner_pth = os.path.join(root_dir, 'LAPKT-public', 'planners', 'siw_plus-then-bfs_f-ffparser' ,'siw-then-bfsf')\n",
        "\n",
        "def convert_to_virtualhome_program(action_list):\n",
        "    action_list = [x[1:-2].split() for x in action_list]\n",
        "    action_list_str = []\n",
        "    for action_instr in action_list:\n",
        "        if len(action_instr) == 0:\n",
        "            continue\n",
        "        action_item = '[{}]'.format(action_instr[0].upper())\n",
        "        if len(action_instr) > 1:\n",
        "            objects_item = ['<{}> ({})'.format('_'.join(l.split('_')[:-1]), l.split('_')[-1]) for l in action_instr[1:]]\n",
        "        action_list_str.append('{} {}'.format(action_item, ' '.join(objects_item)))\n",
        "    return action_list_str\n",
        "\n",
        "def planner(domain_name, problem_name, file_out, planner_dir = planner_pth):\n",
        "    start = time.time()\n",
        "    stats_dir = '/'.join(file_out.split('/')[:-3]) + '/stats/' \n",
        "    file_stats = stats_dir + file_out.split('/')[-1] + '_stats.txt'\n",
        "    os.makedirs(stats_dir, exist_ok=True)\n",
        "    with open(file_stats, 'w+') as outfile:\n",
        "        proc = subprocess.call([planner_pth, '--domain', domain_name, '--problem', problem_name, '--output', file_out], stdout=outfile)\n",
        "    with open(file_out, 'r') as f:\n",
        "        program = f.readlines()\n",
        "        if len(program) > 0 and len(program[-1]) == 0:\n",
        "            program = program[:-1]\n",
        "    program = [x+'\\n' for x in convert_to_virtualhome_program(program)]\n",
        "    if len(program) > 0:\n",
        "        with open(file_out, 'w+') as f:\n",
        "            f.writelines(program)\n",
        "        print(\"Successfully executed the planner.\")\n",
        "    else:\n",
        "        os.remove(file_stats)\n",
        "        os.remove(file_out)\n",
        "        print(\"Planner has no output.\")\n",
        "    end = time.time()\n",
        "    print(\"Time used: {}\".format(end-start))\n"
      ],
      "metadata": {
        "id": "pd9EI5mIG04b"
      },
      "execution_count": 88,
      "outputs": []
    },
    {
      "cell_type": "markdown",
      "source": [
        "### Sample run\n",
        "Replace example_problem/example_problem.pddl with the following content.\n",
        "\n",
        "\n",
        "(define (problem setuptable1)\n",
        "(:domain virtualhome)\n",
        "(:objects\n",
        "    plate_1, plate_2, plate_3, table_4 drawer_5 - object\n",
        "    kitchen_6 livingroom_7 - room\n",
        "    char_0 - character\n",
        "    char_8 - character\n",
        ")\n",
        "(:init\n",
        "    (= (objects_grabbed) 0)\n",
        "    (container drawer_5)\n",
        "    (surface table_4)\n",
        "    (grabable plate_1)\n",
        "    (grabable plate_2)\n",
        "    (grabable plate_3)\n",
        "    (inside plate_1 drawer_5)\n",
        "    (inside plate_2 drawer_5)\n",
        "    (inside plate_3 drawer_5)\n",
        "    (inside drawer_5 kitchen_6)\n",
        "    (inside table_4 livingroom_7)\n",
        "    (inside char_0 livingroom_7)\n",
        "    (inside char_8 kitchen_6)\n",
        ")\n",
        "(:goal\n",
        "    (and (ontop plate_1 table_4) (ontop plate_3 table_4) (inside char_8 livingroom_7) (inside char_0 kitchen_6))\n",
        ")\n",
        ")"
      ],
      "metadata": {
        "id": "Y22vtyVo5nGg"
      }
    },
    {
      "cell_type": "code",
      "source": [
        "#! ./LAPKT-public/planners/siw_plus-then-bfs_f-ffparser/siw-then-bfsf --domain domain.pddl --problem example_problem/example_problem.pddl --output file_out"
      ],
      "metadata": {
        "colab": {
          "base_uri": "https://localhost:8080/"
        },
        "id": "S1BGtRS1YJ6t",
        "outputId": "864f0749-fa58-4933-bd60-65af18a0da47"
      },
      "execution_count": 85,
      "outputs": [
        {
          "output_type": "stream",
          "name": "stdout",
          "text": [
            "\n",
            "\n",
            "task contains conditional effects. turning off state domination.\n",
            "\n",
            " --- OK.\n",
            " Match tree built with 50 nodes.\n",
            "\n",
            "PDDL problem description loaded: \n",
            "\tDomain: VIRTUALHOME\n",
            "\tProblem: SETUPTABLE1\n",
            "\t#Actions: 50\n",
            "\t#Fluents: 88\n",
            "Landmarks found: 3\n",
            "Starting search with IW (time budget is 60 secs)...\n",
            "rel_plan size: 12\n",
            "#RP_fluents 36\n",
            "Caption\n",
            "{#goals, #UNnachieved,  #Achieved} -> IW(max_w)\n",
            "\n",
            "{3/3/0}:IW(1) -> [2]rel_plan size: 10\n",
            "#RP_fluents 28\n",
            "{3/2/1}:IW(1) -> [2][3][4][5][6][7][8][9]rel_plan size: 5\n",
            "#RP_fluents 20\n",
            "{3/1/2}:IW(1) -> [2][3][4][5][6][7][8]rel_plan size: 0\n",
            "#RP_fluents 0Plan found with cost: 16\n",
            "Total time: 0.005028\n",
            "Nodes generated during search: 616\n",
            "Nodes expanded during search: 499\n",
            "IW search completed\n"
          ]
        }
      ]
    },
    {
      "cell_type": "code",
      "source": [
        "domain_name='./domain.pddl'\n",
        "problem_name='./example_problem/example_problem.pddl'\n",
        "output_dir = \"./example_out\"\n",
        "planner(domain_name=domain_name, problem_name=problem_name, file_out=output_dir)"
      ],
      "metadata": {
        "colab": {
          "base_uri": "https://localhost:8080/"
        },
        "id": "IM4psvURH-yS",
        "outputId": "c29e0868-8406-4d64-a508-2f825a23614e"
      },
      "execution_count": 89,
      "outputs": [
        {
          "output_type": "stream",
          "name": "stdout",
          "text": [
            "Successfully executed the planner.\n",
            "Time used: 0.020877838134765625\n"
          ]
        }
      ]
    },
    {
      "cell_type": "code",
      "source": [
        "#printout result\n",
        "f = open('./example_out')\n",
        "for line in f:\n",
        "    print(line)"
      ],
      "metadata": {
        "id": "n2c43ea3X2By",
        "colab": {
          "base_uri": "https://localhost:8080/"
        },
        "outputId": "d5384700-b517-4e48-f2ef-32753b179375"
      },
      "execution_count": 90,
      "outputs": [
        {
          "output_type": "stream",
          "name": "stdout",
          "text": [
            "[WALK] <KITCHEN> (6) <CHAR> (0)\n",
            "\n",
            "[WALK] <LIVINGROOM> (7) <CHAR> (8)\n",
            "\n",
            "[WALK] <DRAWER> (5) <CHAR> (0)\n",
            "\n",
            "[OPEN] <DRAWER> (5) <CHAR> (0)\n",
            "\n",
            "[WALK] <PLATE> (3) <CHAR> (0)\n",
            "\n",
            "[GRAB] <PLATE> (3) <CHAR> (0)\n",
            "\n",
            "[WALK] <LIVINGROOM> (7) <CHAR> (0)\n",
            "\n",
            "[WALK] <TABLE> (4) <CHAR> (0)\n",
            "\n",
            "[PUT] <PLATE> (3) <TABLE> (4) <CHAR> (0)\n",
            "\n",
            "[WALK] <KITCHEN> (6) <CHAR> (0)\n",
            "\n",
            "[WALK] <KITCHEN> (6) <CHAR> (8)\n",
            "\n",
            "[WALK] <DRAWER> (5) <CHAR> (8)\n",
            "\n",
            "[WALK] <PLATE> (1) <CHAR> (8)\n",
            "\n",
            "[GRAB] <PLATE> (1) <CHAR> (8)\n",
            "\n",
            "[WALK] <LIVINGROOM> (7) <CHAR> (8)\n",
            "\n",
            "[WALK] <TABLE> (4) <CHAR> (8)\n",
            "\n",
            "[PUT] <PLATE> (1) <TABLE> (4) <CHAR> (8)\n",
            "\n"
          ]
        }
      ]
    },
    {
      "cell_type": "markdown",
      "source": [
        "## Parse Generated Data"
      ],
      "metadata": {
        "id": "9mSGG31CfBA1"
      }
    },
    {
      "cell_type": "code",
      "source": [
        "import os\n",
        "from google.colab import drive\n",
        "drive.mount('/content/drive')\n",
        "gdrive_root = \"/content/drive\"\n",
        "data_dir = os.path.join(gdrive_root, 'MyDrive' ,'Dataset', 'lm_vh')\n",
        "train_dir = os.path.join(data_dir, 'gather_data_actiongraph_train.json')\n",
        "test_dir = os.path.join(data_dir, 'gather_data_actiongraph_test.json')\n",
        "assert os.path.exists(data_dir), 'Check the path to your root directory'\n",
        "assert os.path.exists(train_dir), 'Check the path to your root directory'\n",
        "assert os.path.exists(test_dir), 'Check the path to your root directory'"
      ],
      "metadata": {
        "id": "LnwfwIafYl8w"
      },
      "execution_count": null,
      "outputs": []
    },
    {
      "cell_type": "code",
      "source": [
        "!pip install ijson"
      ],
      "metadata": {
        "id": "SsSFOlHK4y07"
      },
      "execution_count": null,
      "outputs": []
    },
    {
      "cell_type": "code",
      "source": [
        "import json\n",
        "import ijson\n",
        "\n",
        "#For training data\n",
        "res = []\n",
        "with open(train_dir, \"r\") as f:\n",
        "    for record in ijson.items(f, \"train_data.item\"):\n",
        "        res += [{'env': record['env_id'], 'goal': record['goal'], 'script':record['valid_action_with_walk']}]\n",
        "        print(record['name'])\n",
        "\n",
        "parsed_train_dir = os.path.join(data_dir, 'parsed_train.json')\n",
        "with open(parsed_train_dir, 'w') as fp:\n",
        "    json.dump(res, fp)"
      ],
      "metadata": {
        "id": "CMOYg5D1fYWu"
      },
      "execution_count": null,
      "outputs": []
    },
    {
      "cell_type": "code",
      "source": [
        "#for test data\n",
        "res = []\n",
        "with open(test_dir, \"r\") as f:\n",
        "    for record in ijson.items(f, \"test_data.item\"):\n",
        "        res += [{'env': record['env_id'], 'goal': record['goal'], 'script':record['valid_action_with_walk']}]\n",
        "        print(record['name'])\n",
        "        \n",
        "parsed_test_dir = os.path.join(data_dir, 'parsed_test.json')\n",
        "with open(parsed_test_dir, 'w') as fp:\n",
        "    json.dump(res, fp)"
      ],
      "metadata": {
        "id": "QTfK91g9gegX"
      },
      "execution_count": null,
      "outputs": []
    }
  ]
}