{
  "nbformat": 4,
  "nbformat_minor": 0,
  "metadata": {
    "colab": {
      "name": "LAPKT Action Generation.ipynb",
      "provenance": [],
      "collapsed_sections": []
    },
    "kernelspec": {
      "name": "python3",
      "display_name": "Python 3"
    },
    "language_info": {
      "name": "python"
    }
  },
  "cells": [
    {
      "cell_type": "markdown",
      "source": [
        "# Virtual Home Planner using LAPKT\n",
        "\n",
        "The following provides a complete instruction on generating actions given Virtualhome environment intial setting defined using a pddl file. Please see 'example_problem.pddl'to know how these problem files are defined.\n",
        "\n",
        "[![Open In Colab](https://colab.research.google.com/assets/colab-badge.svg)](https://colab.research.google.com/drive/1_FMnK6rmCjVCtQbj18qbuhxJGrIvA7Up?usp=sharing)"
      ],
      "metadata": {
        "id": "8KZVMxacTgGu"
      }
    },
    {
      "cell_type": "markdown",
      "source": [
        "# Setup PDDLMultiAgent Planner Directory"
      ],
      "metadata": {
        "id": "0HDyNIipGdiK"
      }
    },
    {
      "cell_type": "code",
      "source": [
        "!git -c core.symlinks=true clone --recurse-submodules https://github.com/xavierpuigf/PDDLMultiAgent\n",
        "%cd PDDLMultiAgent"
      ],
      "metadata": {
        "colab": {
          "base_uri": "https://localhost:8080/"
        },
        "id": "brOc7JQb_Gm6",
        "outputId": "f12ff67d-0669-4149-cf6f-5456edbe0522"
      },
      "execution_count": 1,
      "outputs": [
        {
          "output_type": "stream",
          "name": "stdout",
          "text": [
            "Cloning into 'PDDLMultiAgent'...\n",
            "remote: Enumerating objects: 197, done.\u001b[K\n",
            "remote: Total 197 (delta 0), reused 0 (delta 0), pack-reused 197\u001b[K\n",
            "Receiving objects: 100% (197/197), 210.27 KiB | 4.89 MiB/s, done.\n",
            "Resolving deltas: 100% (96/96), done.\n",
            "Submodule 'LAPKT-public' (https://github.com/LAPKT-dev/LAPKT-public.git) registered for path 'LAPKT-public'\n",
            "Cloning into '/content/PDDLMultiAgent/LAPKT-public'...\n",
            "remote: Enumerating objects: 11594, done.        \n",
            "remote: Counting objects: 100% (2147/2147), done.        \n",
            "remote: Compressing objects: 100% (1263/1263), done.        \n",
            "remote: Total 11594 (delta 1079), reused 1750 (delta 715), pack-reused 9447        \n",
            "Receiving objects: 100% (11594/11594), 15.23 MiB | 4.45 MiB/s, done.\n",
            "Resolving deltas: 100% (6708/6708), done.\n",
            "Submodule path 'LAPKT-public': checked out 'af757138d0b4d903e35e5946b3b88e8f8d64e976'\n",
            "/content/PDDLMultiAgent\n"
          ]
        }
      ]
    },
    {
      "cell_type": "markdown",
      "source": [
        "# Build LAPKT"
      ],
      "metadata": {
        "id": "iD8Zklf8GPx1"
      }
    },
    {
      "cell_type": "code",
      "source": [
        "!sudo apt-get install xutils-dev\n",
        "!sudo apt install flex \n",
        "!sudo apt install bison\n",
        "!python -m pip install scons"
      ],
      "metadata": {
        "colab": {
          "base_uri": "https://localhost:8080/"
        },
        "id": "1DUNFa91-9ZU",
        "outputId": "ed944ed8-7b8d-4659-d125-252f1c2925f2"
      },
      "execution_count": 84,
      "outputs": [
        {
          "output_type": "stream",
          "name": "stdout",
          "text": [
            "Reading package lists... Done\n",
            "Building dependency tree       \n",
            "Reading state information... Done\n",
            "xutils-dev is already the newest version (1:7.7+5ubuntu1).\n",
            "0 upgraded, 0 newly installed, 0 to remove and 39 not upgraded.\n",
            "Reading package lists... Done\n",
            "Building dependency tree       \n",
            "Reading state information... Done\n",
            "flex is already the newest version (2.6.4-6).\n",
            "0 upgraded, 0 newly installed, 0 to remove and 39 not upgraded.\n",
            "Reading package lists... Done\n",
            "Building dependency tree       \n",
            "Reading state information... Done\n",
            "bison is already the newest version (2:3.0.4.dfsg-1build1).\n",
            "0 upgraded, 0 newly installed, 0 to remove and 39 not upgraded.\n",
            "Reading package lists... Done\n",
            "Building dependency tree       \n",
            "Reading state information... Done\n",
            "E: Unable to locate package judy\n",
            "Requirement already satisfied: scons in /usr/local/lib/python3.7/dist-packages (4.3.0)\n",
            "Requirement already satisfied: setuptools in /usr/local/lib/python3.7/dist-packages (from scons) (57.4.0)\n"
          ]
        }
      ]
    },
    {
      "cell_type": "code",
      "source": [
        "%cd LAPKT-public/planners/siw_plus-then-bfs_f-ffparser\n",
        "!scons"
      ],
      "metadata": {
        "colab": {
          "base_uri": "https://localhost:8080/"
        },
        "id": "PIjrvzU0_foI",
        "outputId": "131e55a6-8f10-4d28-ae92-29d276a3e855"
      },
      "execution_count": 28,
      "outputs": [
        {
          "output_type": "stream",
          "name": "stdout",
          "text": [
            "/content/PDDLMultiAgent/LAPKT-public/planners/siw_plus-then-bfs_f-ffparser\n",
            "scons: Reading SConscript files ...\n",
            "scons: done reading SConscript files.\n",
            "scons: Building targets ...\n",
            "g++ -o src/main.o -c -Wall -std=c++11 -O3 -DNDEBUG -I/content/PDDLMultiAgent/LAPKT-public/src -I/content/PDDLMultiAgent/LAPKT-public/include -I/content/PDDLMultiAgent/LAPKT-public/interfaces/agnostic -I/content/PDDLMultiAgent/LAPKT-public/interfaces/ff-wrapped -I/content/PDDLMultiAgent/LAPKT-public/include -I/content/PDDLMultiAgent/LAPKT-public/external -I/content/PDDLMultiAgent/LAPKT-public/interfaces/agnostic -I/content/PDDLMultiAgent/LAPKT-public/interfaces/ff-wrapped -Isrc src/main.cxx\n",
            "g++ -o /content/PDDLMultiAgent/LAPKT-public/src/bit_array.o -c -Wall -std=c++11 -O3 -DNDEBUG -I/content/PDDLMultiAgent/LAPKT-public/src -I/content/PDDLMultiAgent/LAPKT-public/include -I/content/PDDLMultiAgent/LAPKT-public/interfaces/agnostic -I/content/PDDLMultiAgent/LAPKT-public/interfaces/ff-wrapped -I/content/PDDLMultiAgent/LAPKT-public/include -I/content/PDDLMultiAgent/LAPKT-public/external -I/content/PDDLMultiAgent/LAPKT-public/interfaces/agnostic -I/content/PDDLMultiAgent/LAPKT-public/interfaces/ff-wrapped -Isrc /content/PDDLMultiAgent/LAPKT-public/src/bit_array.cxx\n",
            "g++ -o /content/PDDLMultiAgent/LAPKT-public/src/bit_set.o -c -Wall -std=c++11 -O3 -DNDEBUG -I/content/PDDLMultiAgent/LAPKT-public/src -I/content/PDDLMultiAgent/LAPKT-public/include -I/content/PDDLMultiAgent/LAPKT-public/interfaces/agnostic -I/content/PDDLMultiAgent/LAPKT-public/interfaces/ff-wrapped -I/content/PDDLMultiAgent/LAPKT-public/include -I/content/PDDLMultiAgent/LAPKT-public/external -I/content/PDDLMultiAgent/LAPKT-public/interfaces/agnostic -I/content/PDDLMultiAgent/LAPKT-public/interfaces/ff-wrapped -Isrc /content/PDDLMultiAgent/LAPKT-public/src/bit_set.cxx\n",
            "g++ -o /content/PDDLMultiAgent/LAPKT-public/src/memory.o -c -Wall -std=c++11 -O3 -DNDEBUG -I/content/PDDLMultiAgent/LAPKT-public/src -I/content/PDDLMultiAgent/LAPKT-public/include -I/content/PDDLMultiAgent/LAPKT-public/interfaces/agnostic -I/content/PDDLMultiAgent/LAPKT-public/interfaces/ff-wrapped -I/content/PDDLMultiAgent/LAPKT-public/include -I/content/PDDLMultiAgent/LAPKT-public/external -I/content/PDDLMultiAgent/LAPKT-public/interfaces/agnostic -I/content/PDDLMultiAgent/LAPKT-public/interfaces/ff-wrapped -Isrc /content/PDDLMultiAgent/LAPKT-public/src/memory.cxx\n",
            "g++ -o /content/PDDLMultiAgent/LAPKT-public/interfaces/agnostic/action.o -c -Wall -std=c++11 -O3 -DNDEBUG -I/content/PDDLMultiAgent/LAPKT-public/src -I/content/PDDLMultiAgent/LAPKT-public/include -I/content/PDDLMultiAgent/LAPKT-public/interfaces/agnostic -I/content/PDDLMultiAgent/LAPKT-public/interfaces/ff-wrapped -I/content/PDDLMultiAgent/LAPKT-public/include -I/content/PDDLMultiAgent/LAPKT-public/external -I/content/PDDLMultiAgent/LAPKT-public/interfaces/agnostic -I/content/PDDLMultiAgent/LAPKT-public/interfaces/ff-wrapped -Isrc /content/PDDLMultiAgent/LAPKT-public/interfaces/agnostic/action.cxx\n",
            "g++ -o /content/PDDLMultiAgent/LAPKT-public/interfaces/agnostic/cond_eff.o -c -Wall -std=c++11 -O3 -DNDEBUG -I/content/PDDLMultiAgent/LAPKT-public/src -I/content/PDDLMultiAgent/LAPKT-public/include -I/content/PDDLMultiAgent/LAPKT-public/interfaces/agnostic -I/content/PDDLMultiAgent/LAPKT-public/interfaces/ff-wrapped -I/content/PDDLMultiAgent/LAPKT-public/include -I/content/PDDLMultiAgent/LAPKT-public/external -I/content/PDDLMultiAgent/LAPKT-public/interfaces/agnostic -I/content/PDDLMultiAgent/LAPKT-public/interfaces/ff-wrapped -Isrc /content/PDDLMultiAgent/LAPKT-public/interfaces/agnostic/cond_eff.cxx\n",
            "g++ -o /content/PDDLMultiAgent/LAPKT-public/interfaces/agnostic/conj_comp_prob.o -c -Wall -std=c++11 -O3 -DNDEBUG -I/content/PDDLMultiAgent/LAPKT-public/src -I/content/PDDLMultiAgent/LAPKT-public/include -I/content/PDDLMultiAgent/LAPKT-public/interfaces/agnostic -I/content/PDDLMultiAgent/LAPKT-public/interfaces/ff-wrapped -I/content/PDDLMultiAgent/LAPKT-public/include -I/content/PDDLMultiAgent/LAPKT-public/external -I/content/PDDLMultiAgent/LAPKT-public/interfaces/agnostic -I/content/PDDLMultiAgent/LAPKT-public/interfaces/ff-wrapped -Isrc /content/PDDLMultiAgent/LAPKT-public/interfaces/agnostic/conj_comp_prob.cxx\n",
            "g++ -o /content/PDDLMultiAgent/LAPKT-public/interfaces/agnostic/fl_conj.o -c -Wall -std=c++11 -O3 -DNDEBUG -I/content/PDDLMultiAgent/LAPKT-public/src -I/content/PDDLMultiAgent/LAPKT-public/include -I/content/PDDLMultiAgent/LAPKT-public/interfaces/agnostic -I/content/PDDLMultiAgent/LAPKT-public/interfaces/ff-wrapped -I/content/PDDLMultiAgent/LAPKT-public/include -I/content/PDDLMultiAgent/LAPKT-public/external -I/content/PDDLMultiAgent/LAPKT-public/interfaces/agnostic -I/content/PDDLMultiAgent/LAPKT-public/interfaces/ff-wrapped -Isrc /content/PDDLMultiAgent/LAPKT-public/interfaces/agnostic/fl_conj.cxx\n",
            "g++ -o /content/PDDLMultiAgent/LAPKT-public/interfaces/agnostic/fluent.o -c -Wall -std=c++11 -O3 -DNDEBUG -I/content/PDDLMultiAgent/LAPKT-public/src -I/content/PDDLMultiAgent/LAPKT-public/include -I/content/PDDLMultiAgent/LAPKT-public/interfaces/agnostic -I/content/PDDLMultiAgent/LAPKT-public/interfaces/ff-wrapped -I/content/PDDLMultiAgent/LAPKT-public/include -I/content/PDDLMultiAgent/LAPKT-public/external -I/content/PDDLMultiAgent/LAPKT-public/interfaces/agnostic -I/content/PDDLMultiAgent/LAPKT-public/interfaces/ff-wrapped -Isrc /content/PDDLMultiAgent/LAPKT-public/interfaces/agnostic/fluent.cxx\n",
            "g++ -o /content/PDDLMultiAgent/LAPKT-public/interfaces/agnostic/fwd_search_prob.o -c -Wall -std=c++11 -O3 -DNDEBUG -I/content/PDDLMultiAgent/LAPKT-public/src -I/content/PDDLMultiAgent/LAPKT-public/include -I/content/PDDLMultiAgent/LAPKT-public/interfaces/agnostic -I/content/PDDLMultiAgent/LAPKT-public/interfaces/ff-wrapped -I/content/PDDLMultiAgent/LAPKT-public/include -I/content/PDDLMultiAgent/LAPKT-public/external -I/content/PDDLMultiAgent/LAPKT-public/interfaces/agnostic -I/content/PDDLMultiAgent/LAPKT-public/interfaces/ff-wrapped -Isrc /content/PDDLMultiAgent/LAPKT-public/interfaces/agnostic/fwd_search_prob.cxx\n",
            "g++ -o /content/PDDLMultiAgent/LAPKT-public/interfaces/agnostic/landmark_graph.o -c -Wall -std=c++11 -O3 -DNDEBUG -I/content/PDDLMultiAgent/LAPKT-public/src -I/content/PDDLMultiAgent/LAPKT-public/include -I/content/PDDLMultiAgent/LAPKT-public/interfaces/agnostic -I/content/PDDLMultiAgent/LAPKT-public/interfaces/ff-wrapped -I/content/PDDLMultiAgent/LAPKT-public/include -I/content/PDDLMultiAgent/LAPKT-public/external -I/content/PDDLMultiAgent/LAPKT-public/interfaces/agnostic -I/content/PDDLMultiAgent/LAPKT-public/interfaces/ff-wrapped -Isrc /content/PDDLMultiAgent/LAPKT-public/interfaces/agnostic/landmark_graph.cxx\n",
            "g++ -o /content/PDDLMultiAgent/LAPKT-public/interfaces/agnostic/match_tree.o -c -Wall -std=c++11 -O3 -DNDEBUG -I/content/PDDLMultiAgent/LAPKT-public/src -I/content/PDDLMultiAgent/LAPKT-public/include -I/content/PDDLMultiAgent/LAPKT-public/interfaces/agnostic -I/content/PDDLMultiAgent/LAPKT-public/interfaces/ff-wrapped -I/content/PDDLMultiAgent/LAPKT-public/include -I/content/PDDLMultiAgent/LAPKT-public/external -I/content/PDDLMultiAgent/LAPKT-public/interfaces/agnostic -I/content/PDDLMultiAgent/LAPKT-public/interfaces/ff-wrapped -Isrc /content/PDDLMultiAgent/LAPKT-public/interfaces/agnostic/match_tree.cxx\n",
            "g++ -o /content/PDDLMultiAgent/LAPKT-public/interfaces/agnostic/mutex_set.o -c -Wall -std=c++11 -O3 -DNDEBUG -I/content/PDDLMultiAgent/LAPKT-public/src -I/content/PDDLMultiAgent/LAPKT-public/include -I/content/PDDLMultiAgent/LAPKT-public/interfaces/agnostic -I/content/PDDLMultiAgent/LAPKT-public/interfaces/ff-wrapped -I/content/PDDLMultiAgent/LAPKT-public/include -I/content/PDDLMultiAgent/LAPKT-public/external -I/content/PDDLMultiAgent/LAPKT-public/interfaces/agnostic -I/content/PDDLMultiAgent/LAPKT-public/interfaces/ff-wrapped -Isrc /content/PDDLMultiAgent/LAPKT-public/interfaces/agnostic/mutex_set.cxx\n",
            "g++ -o /content/PDDLMultiAgent/LAPKT-public/interfaces/agnostic/reachability.o -c -Wall -std=c++11 -O3 -DNDEBUG -I/content/PDDLMultiAgent/LAPKT-public/src -I/content/PDDLMultiAgent/LAPKT-public/include -I/content/PDDLMultiAgent/LAPKT-public/interfaces/agnostic -I/content/PDDLMultiAgent/LAPKT-public/interfaces/ff-wrapped -I/content/PDDLMultiAgent/LAPKT-public/include -I/content/PDDLMultiAgent/LAPKT-public/external -I/content/PDDLMultiAgent/LAPKT-public/interfaces/agnostic -I/content/PDDLMultiAgent/LAPKT-public/interfaces/ff-wrapped -Isrc /content/PDDLMultiAgent/LAPKT-public/interfaces/agnostic/reachability.cxx\n",
            "g++ -o /content/PDDLMultiAgent/LAPKT-public/interfaces/agnostic/strips_prob.o -c -Wall -std=c++11 -O3 -DNDEBUG -I/content/PDDLMultiAgent/LAPKT-public/src -I/content/PDDLMultiAgent/LAPKT-public/include -I/content/PDDLMultiAgent/LAPKT-public/interfaces/agnostic -I/content/PDDLMultiAgent/LAPKT-public/interfaces/ff-wrapped -I/content/PDDLMultiAgent/LAPKT-public/include -I/content/PDDLMultiAgent/LAPKT-public/external -I/content/PDDLMultiAgent/LAPKT-public/interfaces/agnostic -I/content/PDDLMultiAgent/LAPKT-public/interfaces/ff-wrapped -Isrc /content/PDDLMultiAgent/LAPKT-public/interfaces/agnostic/strips_prob.cxx\n",
            "g++ -o /content/PDDLMultiAgent/LAPKT-public/interfaces/agnostic/strips_state.o -c -Wall -std=c++11 -O3 -DNDEBUG -I/content/PDDLMultiAgent/LAPKT-public/src -I/content/PDDLMultiAgent/LAPKT-public/include -I/content/PDDLMultiAgent/LAPKT-public/interfaces/agnostic -I/content/PDDLMultiAgent/LAPKT-public/interfaces/ff-wrapped -I/content/PDDLMultiAgent/LAPKT-public/include -I/content/PDDLMultiAgent/LAPKT-public/external -I/content/PDDLMultiAgent/LAPKT-public/interfaces/agnostic -I/content/PDDLMultiAgent/LAPKT-public/interfaces/ff-wrapped -Isrc /content/PDDLMultiAgent/LAPKT-public/interfaces/agnostic/strips_state.cxx\n",
            "g++ -o /content/PDDLMultiAgent/LAPKT-public/interfaces/agnostic/succ_gen.o -c -Wall -std=c++11 -O3 -DNDEBUG -I/content/PDDLMultiAgent/LAPKT-public/src -I/content/PDDLMultiAgent/LAPKT-public/include -I/content/PDDLMultiAgent/LAPKT-public/interfaces/agnostic -I/content/PDDLMultiAgent/LAPKT-public/interfaces/ff-wrapped -I/content/PDDLMultiAgent/LAPKT-public/include -I/content/PDDLMultiAgent/LAPKT-public/external -I/content/PDDLMultiAgent/LAPKT-public/interfaces/agnostic -I/content/PDDLMultiAgent/LAPKT-public/interfaces/ff-wrapped -Isrc /content/PDDLMultiAgent/LAPKT-public/interfaces/agnostic/succ_gen.cxx\n",
            "g++ -o /content/PDDLMultiAgent/LAPKT-public/interfaces/agnostic/watched_lit_succ_gen.o -c -Wall -std=c++11 -O3 -DNDEBUG -I/content/PDDLMultiAgent/LAPKT-public/src -I/content/PDDLMultiAgent/LAPKT-public/include -I/content/PDDLMultiAgent/LAPKT-public/interfaces/agnostic -I/content/PDDLMultiAgent/LAPKT-public/interfaces/ff-wrapped -I/content/PDDLMultiAgent/LAPKT-public/include -I/content/PDDLMultiAgent/LAPKT-public/external -I/content/PDDLMultiAgent/LAPKT-public/interfaces/agnostic -I/content/PDDLMultiAgent/LAPKT-public/interfaces/ff-wrapped -Isrc /content/PDDLMultiAgent/LAPKT-public/interfaces/agnostic/watched_lit_succ_gen.cxx\n",
            "g++ -o /content/PDDLMultiAgent/LAPKT-public/interfaces/ff-wrapped/ff_to_aptk.o -c -Wall -std=c++11 -O3 -DNDEBUG -I/content/PDDLMultiAgent/LAPKT-public/src -I/content/PDDLMultiAgent/LAPKT-public/include -I/content/PDDLMultiAgent/LAPKT-public/interfaces/agnostic -I/content/PDDLMultiAgent/LAPKT-public/interfaces/ff-wrapped -I/content/PDDLMultiAgent/LAPKT-public/include -I/content/PDDLMultiAgent/LAPKT-public/external -I/content/PDDLMultiAgent/LAPKT-public/interfaces/agnostic -I/content/PDDLMultiAgent/LAPKT-public/interfaces/ff-wrapped -Isrc /content/PDDLMultiAgent/LAPKT-public/interfaces/ff-wrapped/ff_to_aptk.cxx\n",
            "g++ -o siw-then-bfsf -static src/main.o /content/PDDLMultiAgent/LAPKT-public/src/bit_array.o /content/PDDLMultiAgent/LAPKT-public/src/bit_set.o /content/PDDLMultiAgent/LAPKT-public/src/memory.o /content/PDDLMultiAgent/LAPKT-public/interfaces/agnostic/action.o /content/PDDLMultiAgent/LAPKT-public/interfaces/agnostic/cond_eff.o /content/PDDLMultiAgent/LAPKT-public/interfaces/agnostic/conj_comp_prob.o /content/PDDLMultiAgent/LAPKT-public/interfaces/agnostic/fl_conj.o /content/PDDLMultiAgent/LAPKT-public/interfaces/agnostic/fluent.o /content/PDDLMultiAgent/LAPKT-public/interfaces/agnostic/fwd_search_prob.o /content/PDDLMultiAgent/LAPKT-public/interfaces/agnostic/landmark_graph.o /content/PDDLMultiAgent/LAPKT-public/interfaces/agnostic/match_tree.o /content/PDDLMultiAgent/LAPKT-public/interfaces/agnostic/mutex_set.o /content/PDDLMultiAgent/LAPKT-public/interfaces/agnostic/reachability.o /content/PDDLMultiAgent/LAPKT-public/interfaces/agnostic/strips_prob.o /content/PDDLMultiAgent/LAPKT-public/interfaces/agnostic/strips_state.o /content/PDDLMultiAgent/LAPKT-public/interfaces/agnostic/succ_gen.o /content/PDDLMultiAgent/LAPKT-public/interfaces/agnostic/watched_lit_succ_gen.o /content/PDDLMultiAgent/LAPKT-public/interfaces/ff-wrapped/ff_to_aptk.o -L/content/PDDLMultiAgent/LAPKT-public/external/libff -lff -lboost_program_options\n",
            "scons: done building targets.\n"
          ]
        }
      ]
    },
    {
      "cell_type": "code",
      "source": [
        "%cd ../../external/libff\n",
        "!make clean\n",
        "!make depend\n",
        "!make"
      ],
      "metadata": {
        "colab": {
          "base_uri": "https://localhost:8080/"
        },
        "id": "Xv31FP3K-Rsb",
        "outputId": "78156322-151c-4497-96cf-0656b55ee576"
      },
      "execution_count": 30,
      "outputs": [
        {
          "output_type": "stream",
          "name": "stdout",
          "text": [
            "/content/PDDLMultiAgent/LAPKT-public/external/libff\n",
            "rm -f *.o *.bak *~ *% core *_pure_p9_c0_400.o.warnings test_lib \\\n",
            "        \\#*\\#  scan-fct_pddl.tab.c scan-ops_pddl.tab.c scan-probname.tab.c lex.fct_pddl.c lex.ops_pddl.c \n",
            "makedepend -- main.c memory.c output.c parse.c expressions.c inst_pre.c inst_easy.c inst_hard.c inst_final.c relax.c search.c utility.c  libff.c memory.c output.c parse.c expressions.c inst_pre.c inst_easy.c inst_hard.c inst_final.c relax.c search.c utility.c scan-fct_pddl.tab.c scan-ops_pddl.tab.c scan-probname.tab.c lex.fct_pddl.c lex.ops_pddl.c  test_main.cxx\n",
            "makedepend: warning:  main.c (reading /usr/include/stdlib.h, line 25): cannot find include file \"bits/libc-header-start.h\"\n",
            "\tnot in /usr/include/bits/libc-header-start.h\n",
            "makedepend: warning:  main.c (reading /usr/include/stdlib.h, line 31): cannot find include file \"stddef.h\"\n",
            "\tnot in /usr/include/stddef.h\n",
            "makedepend: warning:  main.c (reading /usr/include/stdlib.h, line 55): cannot find include file \"bits/floatn.h\"\n",
            "\tnot in /usr/include/bits/floatn.h\n",
            "makedepend: warning:  main.c (reading /usr/include/stdlib.h, line 1016): cannot find include file \"bits/stdlib-float.h\"\n",
            "\tnot in /usr/include/bits/stdlib-float.h\n",
            "makedepend: warning:  main.c (reading /usr/include/stdio.h, line 27): cannot find include file \"bits/libc-header-start.h\"\n",
            "\tnot in /usr/include/bits/libc-header-start.h\n",
            "makedepend: warning:  main.c (reading /usr/include/stdio.h, line 33): cannot find include file \"stddef.h\"\n",
            "\tnot in /usr/include/stddef.h\n",
            "makedepend: warning:  main.c (reading /usr/include/stdio.h, line 35): cannot find include file \"bits/types.h\"\n",
            "\tnot in /usr/include/bits/types.h\n",
            "makedepend: warning:  main.c (reading /usr/include/stdio.h, line 36): cannot find include file \"bits/types/__FILE.h\"\n",
            "\tnot in /usr/include/bits/types/__FILE.h\n",
            "makedepend: warning:  main.c (reading /usr/include/stdio.h, line 37): cannot find include file \"bits/types/FILE.h\"\n",
            "\tnot in /usr/include/bits/types/FILE.h\n",
            "makedepend: warning:  main.c (reading /usr/include/stdio.h, line 41): cannot find include file \"bits/libio.h\"\n",
            "\tnot in /usr/include/bits/libio.h\n",
            "makedepend: warning:  main.c (reading /usr/include/stdio.h, line 131): cannot find include file \"bits/stdio_lim.h\"\n",
            "\tnot in /usr/include/bits/stdio_lim.h\n",
            "makedepend: warning:  main.c (reading /usr/include/stdio.h, line 781): cannot find include file \"bits/sys_errlist.h\"\n",
            "\tnot in /usr/include/bits/sys_errlist.h\n",
            "makedepend: warning:  main.c (reading /usr/include/features.h, line 424): cannot find include file \"sys/cdefs.h\"\n",
            "\tnot in /usr/include/sys/cdefs.h\n",
            "makedepend: warning:  main.c (reading /usr/include/features.h, line 448): cannot find include file \"gnu/stubs.h\"\n",
            "\tnot in /usr/include/gnu/stubs.h\n",
            "makedepend: warning:  main.c (reading /usr/include/strings.h, line 23): cannot find include file \"stddef.h\"\n",
            "\tnot in /usr/include/stddef.h\n",
            "makedepend: warning:  main.c (reading /usr/include/strings.h, line 125): cannot find include file \"bits/types/locale_t.h\"\n",
            "\tnot in /usr/include/bits/types/locale_t.h\n",
            "makedepend: warning:  main.c (reading /usr/include/ctype.h, line 26): cannot find include file \"bits/types.h\"\n",
            "\tnot in /usr/include/bits/types.h\n",
            "makedepend: warning:  main.c (reading /usr/include/endian.h, line 36): cannot find include file \"bits/endian.h\"\n",
            "\tnot in /usr/include/bits/endian.h\n",
            "makedepend: warning:  main.c (reading /usr/include/endian.h, line 60): cannot find include file \"bits/byteswap.h\"\n",
            "\tnot in /usr/include/bits/byteswap.h\n",
            "makedepend: warning:  main.c (reading /usr/include/endian.h, line 61): cannot find include file \"bits/uintn-identity.h\"\n",
            "\tnot in /usr/include/bits/uintn-identity.h\n",
            "makedepend: warning:  main.c (reading /usr/include/ctype.h, line 237): cannot find include file \"bits/types/locale_t.h\"\n",
            "\tnot in /usr/include/bits/types/locale_t.h\n",
            "makedepend: warning:  main.c (reading ff.h, line 72): cannot find include file \"sys/types.h\"\n",
            "\tnot in /usr/include/sys/types.h\n",
            "makedepend: warning:  main.c (reading ff.h, line 73): cannot find include file \"sys/timeb.h\"\n",
            "\tnot in /usr/include/sys/timeb.h\n",
            "makedepend: warning:  main.c (reading ff.h, line 74): cannot find include file \"sys/times.h\"\n",
            "\tnot in /usr/include/sys/times.h\n",
            "makedepend: warning:  main.c (reading /usr/include/string.h, line 26): cannot find include file \"bits/libc-header-start.h\"\n",
            "\tnot in /usr/include/bits/libc-header-start.h\n",
            "makedepend: warning:  main.c (reading /usr/include/string.h, line 33): cannot find include file \"stddef.h\"\n",
            "\tnot in /usr/include/stddef.h\n",
            "makedepend: warning:  main.c (reading /usr/include/string.h, line 152): cannot find include file \"bits/types/locale_t.h\"\n",
            "\tnot in /usr/include/bits/types/locale_t.h\n",
            "makedepend: warning:  cannot open \"scan-fct_pddl.tab.c\"\n",
            "makedepend: warning:  cannot open \"scan-ops_pddl.tab.c\"\n",
            "makedepend: warning:  cannot open \"scan-probname.tab.c\"\n",
            "makedepend: warning:  cannot open \"lex.fct_pddl.c\"\n",
            "makedepend: warning:  cannot open \"lex.ops_pddl.c\"\n",
            "makedepend: warning:  test_main.cxx, line 3: cannot find include file \"iostream\"\n",
            "\tnot in /usr/include/iostream\n",
            "makedepend: warning:  test_main.cxx, line 4: cannot find include file \"fstream\"\n",
            "\tnot in /usr/include/fstream\n",
            "gcc -c -O6 -Wall -ansi   libff.c\n",
            "In file included from \u001b[01m\u001b[Klibff.c:1:0\u001b[m\u001b[K:\n",
            "\u001b[01m\u001b[Klibff.h:458:8:\u001b[m\u001b[K \u001b[01;35m\u001b[Kwarning: \u001b[m\u001b[Kextra tokens at end of #endif directive [\u001b[01;35m\u001b[K-Wendif-labels\u001b[m\u001b[K]\n",
            " #endif \u001b[01;35m\u001b[K/\u001b[m\u001b[K/libff.h\n",
            "        \u001b[01;35m\u001b[K^\u001b[m\u001b[K\n",
            "\u001b[01m\u001b[Klibff.c:\u001b[m\u001b[K In function ‘\u001b[01m\u001b[KFF_reinitialize_globals\u001b[m\u001b[K’:\n",
            "\u001b[01m\u001b[Klibff.c:414:2:\u001b[m\u001b[K \u001b[01;35m\u001b[Kwarning: \u001b[m\u001b[Kstatement with no effect [\u001b[01;35m\u001b[K-Wunused-value\u001b[m\u001b[K]\n",
            "  \u001b[01;35m\u001b[Kgnum_actions\u001b[m\u001b[K;\n",
            "  \u001b[01;35m\u001b[K^~~~~~~~~~~~\u001b[m\u001b[K\n",
            "\u001b[01m\u001b[Klibff.c:\u001b[m\u001b[K In function ‘\u001b[01m\u001b[KFF_parse_problem\u001b[m\u001b[K’:\n",
            "\u001b[01m\u001b[Klibff.c:454:2:\u001b[m\u001b[K \u001b[01;35m\u001b[Kwarning: \u001b[m\u001b[Kimplicit declaration of function ‘\u001b[01m\u001b[Ksnprintf\u001b[m\u001b[K’; did you mean ‘\u001b[01m\u001b[Ksprintf\u001b[m\u001b[K’? [\u001b[01;35m\u001b[K-Wimplicit-function-declaration\u001b[m\u001b[K]\n",
            "  \u001b[01;35m\u001b[Ksnprintf\u001b[m\u001b[K( ops_file, MAX_LENGTH, \"%s\", domain_file );\n",
            "  \u001b[01;35m\u001b[K^~~~~~~~\u001b[m\u001b[K\n",
            "  \u001b[32m\u001b[Ksprintf\u001b[m\u001b[K\n",
            "gcc -c -O6 -Wall -ansi   memory.c\n",
            "gcc -c -O6 -Wall -ansi   output.c\n",
            "gcc -c -O6 -Wall -ansi   parse.c\n",
            "gcc -c -O6 -Wall -ansi   expressions.c\n",
            "gcc -c -O6 -Wall -ansi   inst_pre.c\n",
            "gcc -c -O6 -Wall -ansi   inst_easy.c\n",
            "In file included from \u001b[01m\u001b[Kinst_easy.c:66:0\u001b[m\u001b[K:\n",
            "\u001b[01m\u001b[Kinst_easy.c:\u001b[m\u001b[K In function ‘\u001b[01m\u001b[Kmultiply_easy_non_constrained_effect_parameters\u001b[m\u001b[K’:\n",
            "\u001b[01m\u001b[Kff.h:319:37:\u001b[m\u001b[K \u001b[01;35m\u001b[Kwarning: \u001b[m\u001b[K‘\u001b[01m\u001b[K*\u001b[m\u001b[K’ in boolean context, suggest ‘\u001b[01m\u001b[K&&\u001b[m\u001b[K’ instead [\u001b[01;35m\u001b[K-Wint-in-bool-context\u001b[m\u001b[K]\n",
            " #define DECODE_VAR( val ) \u001b[01;35m\u001b[K(val + 1) * (-1)\u001b[m\u001b[K\n",
            "                           \u001b[01;35m\u001b[K~~~~~~~~~~^~~~~~\u001b[m\u001b[K\n",
            "\u001b[01m\u001b[Kinst_easy.c:944:9:\u001b[m\u001b[K \u001b[01;36m\u001b[Knote: \u001b[m\u001b[Kin expansion of macro ‘\u001b[01m\u001b[KDECODE_VAR\u001b[m\u001b[K’\n",
            "         \u001b[01;36m\u001b[KDECODE_VAR\u001b[m\u001b[K( tmp->conditions[i].args[j] < lo->num_vars ) ) {\n",
            "         \u001b[01;36m\u001b[K^~~~~~~~~~\u001b[m\u001b[K\n",
            "gcc -c -O6 -Wall -ansi   inst_hard.c\n",
            "gcc -c -O6 -Wall -ansi   inst_final.c\n",
            "\u001b[01m\u001b[Kinst_final.c:\u001b[m\u001b[K In function ‘\u001b[01m\u001b[Kbuild_connectivity_graph\u001b[m\u001b[K’:\n",
            "\u001b[01m\u001b[Kinst_final.c:1932:3:\u001b[m\u001b[K \u001b[01;35m\u001b[Kwarning: \u001b[m\u001b[Kimplicit declaration of function ‘\u001b[01m\u001b[Ksrandom\u001b[m\u001b[K’; did you mean ‘\u001b[01m\u001b[Ksrand\u001b[m\u001b[K’? [\u001b[01;35m\u001b[K-Wimplicit-function-declaration\u001b[m\u001b[K]\n",
            "   \u001b[01;35m\u001b[Ksrandom\u001b[m\u001b[K( tp.millitm );\n",
            "   \u001b[01;35m\u001b[K^~~~~~~\u001b[m\u001b[K\n",
            "   \u001b[32m\u001b[Ksrand\u001b[m\u001b[K\n",
            "\u001b[01m\u001b[Kinst_final.c:1948:24:\u001b[m\u001b[K \u001b[01;35m\u001b[Kwarning: \u001b[m\u001b[Kimplicit declaration of function ‘\u001b[01m\u001b[Krandom\u001b[m\u001b[K’; did you mean ‘\u001b[01m\u001b[Krand\u001b[m\u001b[K’? [\u001b[01;35m\u001b[K-Wimplicit-function-declaration\u001b[m\u001b[K]\n",
            "     gft_conn[i].rand = \u001b[01;35m\u001b[Krandom\u001b[m\u001b[K() % BIG_INT;\n",
            "                        \u001b[01;35m\u001b[K^~~~~~\u001b[m\u001b[K\n",
            "                        \u001b[32m\u001b[Krand\u001b[m\u001b[K\n",
            "gcc -c -O6 -Wall -ansi   relax.c\n",
            "gcc -c -O6 -Wall -ansi   search.c\n",
            "\u001b[01m\u001b[Ksearch.c:\u001b[m\u001b[K In function ‘\u001b[01m\u001b[Kdo_best_first_search\u001b[m\u001b[K’:\n",
            "\u001b[01m\u001b[Ksearch.c:936:5:\u001b[m\u001b[K \u001b[01;35m\u001b[Kwarning: \u001b[m\u001b[Kimplicit declaration of function ‘\u001b[01m\u001b[Kprint_state\u001b[m\u001b[K’; did you mean ‘\u001b[01m\u001b[Kprint_State\u001b[m\u001b[K’? [\u001b[01;35m\u001b[K-Wimplicit-function-declaration\u001b[m\u001b[K]\n",
            "     \u001b[01;35m\u001b[Kprint_state\u001b[m\u001b[K( &(first->S) );\n",
            "     \u001b[01;35m\u001b[K^~~~~~~~~~~\u001b[m\u001b[K\n",
            "     \u001b[32m\u001b[Kprint_State\u001b[m\u001b[K\n",
            "gcc -c -O6 -Wall -ansi   utility.c\n",
            "flex -Pfct_pddl lex-fct_pddl.l\n",
            "bison -pfct_pddl -bscan-fct_pddl scan-fct_pddl.y\n",
            "scan-fct_pddl.y: warning: 1 nonterminal useless in grammar [-Wother]\n",
            "scan-fct_pddl.y: warning: 2 rules useless in grammar [-Wother]\n",
            "scan-fct_pddl.y:135.17-33: warning: nonterminal useless in grammar: literal_name_plus [-Wother]\n",
            " %type <pPlNode> literal_name_plus\n",
            "                 ^^^^^^^^^^^^^^^^^\n",
            "scan-fct_pddl.y:814.1-817.1: warning: rule useless in grammar [-Wother]\n",
            " literal_name\n",
            " ^^^^^^^^^^^^\n",
            "scan-fct_pddl.y:819.1-823.1: warning: rule useless in grammar [-Wother]\n",
            " literal_name literal_name_plus\n",
            " ^^^^^^^^^^^^^^^^^^^^^^^^^^^^^^\n",
            "scan-fct_pddl.y: warning: 1 shift/reduce conflict [-Wconflicts-sr]\n",
            "scan-fct_pddl.y: warning: 1 reduce/reduce conflict [-Wconflicts-rr]\n",
            "gcc -c -O6 -Wall -ansi   scan-fct_pddl.tab.c\n",
            "\u001b[01m\u001b[Kscan-fct_pddl.tab.c:\u001b[m\u001b[K In function ‘\u001b[01m\u001b[Kfct_pddlparse\u001b[m\u001b[K’:\n",
            "\u001b[01m\u001b[Kscan-fct_pddl.tab.c:64:25:\u001b[m\u001b[K \u001b[01;35m\u001b[Kwarning: \u001b[m\u001b[Kimplicit declaration of function ‘\u001b[01m\u001b[Kfct_pddllex\u001b[m\u001b[K’; did you mean ‘\u001b[01m\u001b[Kfct_pddlparse\u001b[m\u001b[K’? [\u001b[01;35m\u001b[K-Wimplicit-function-declaration\u001b[m\u001b[K]\n",
            " #define yylex           \u001b[01;35m\u001b[Kf\u001b[m\u001b[Kct_pddllex\n",
            "                         \u001b[01;35m\u001b[K^\u001b[m\u001b[K\n",
            "\u001b[01m\u001b[Kscan-fct_pddl.tab.c:1382:16:\u001b[m\u001b[K \u001b[01;36m\u001b[Knote: \u001b[m\u001b[Kin expansion of macro ‘\u001b[01m\u001b[Kyylex\u001b[m\u001b[K’\n",
            "       yychar = \u001b[01;36m\u001b[Kyylex\u001b[m\u001b[K ();\n",
            "                \u001b[01;36m\u001b[K^~~~~\u001b[m\u001b[K\n",
            "\u001b[01m\u001b[Kscan-fct_pddl.y:194:3:\u001b[m\u001b[K \u001b[01;35m\u001b[Kwarning: \u001b[m\u001b[Kimplicit declaration of function ‘\u001b[01m\u001b[Kfcterr\u001b[m\u001b[K’; did you mean ‘\u001b[01m\u001b[Kftell\u001b[m\u001b[K’? [\u001b[01;35m\u001b[K-Wimplicit-function-declaration\u001b[m\u001b[K]\n",
            "   \u001b[01;35m\u001b[Kfcterr\u001b[m\u001b[K( PROBNAME_EXPECTED, NULL );\n",
            "   \u001b[01;35m\u001b[K^~~~~~\u001b[m\u001b[K\n",
            "   \u001b[32m\u001b[Kftell\u001b[m\u001b[K\n",
            "\u001b[01m\u001b[Kscan-fct_pddl.tab.c:65:25:\u001b[m\u001b[K \u001b[01;35m\u001b[Kwarning: \u001b[m\u001b[Kimplicit declaration of function ‘\u001b[01m\u001b[Kfct_pddlerror\u001b[m\u001b[K’; did you mean ‘\u001b[01m\u001b[Kfct_pddlparse\u001b[m\u001b[K’? [\u001b[01;35m\u001b[K-Wimplicit-function-declaration\u001b[m\u001b[K]\n",
            " #define yyerror         \u001b[01;35m\u001b[Kf\u001b[m\u001b[Kct_pddlerror\n",
            "                         \u001b[01;35m\u001b[K^\u001b[m\u001b[K\n",
            "\u001b[01m\u001b[Kscan-fct_pddl.y:222:5:\u001b[m\u001b[K \u001b[01;36m\u001b[Knote: \u001b[m\u001b[Kin expansion of macro ‘\u001b[01m\u001b[Kyyerror\u001b[m\u001b[K’\n",
            "     \u001b[01;36m\u001b[Kyyerror\u001b[m\u001b[K();\n",
            "     \u001b[01;36m\u001b[K^~~~~~~\u001b[m\u001b[K\n",
            "In file included from \u001b[01m\u001b[Kscan-fct_pddl.y:876:0\u001b[m\u001b[K:\n",
            "\u001b[01m\u001b[Klex.fct_pddl.c:\u001b[m\u001b[K At top level:\n",
            "\u001b[01m\u001b[Klex.fct_pddl.c:28:16:\u001b[m\u001b[K \u001b[01;35m\u001b[Kwarning: \u001b[m\u001b[Kprototype for ‘\u001b[01m\u001b[Kfct_pddlwrap\u001b[m\u001b[K’ follows non-prototype definition\n",
            " #define yywrap \u001b[01;35m\u001b[Kf\u001b[m\u001b[Kct_pddlwrap\n",
            "                \u001b[01;35m\u001b[K^\u001b[m\u001b[K\n",
            "\u001b[01m\u001b[Klex.fct_pddl.c:913:12:\u001b[m\u001b[K \u001b[01;36m\u001b[Knote: \u001b[m\u001b[Kin expansion of macro ‘\u001b[01m\u001b[Kyywrap\u001b[m\u001b[K’\n",
            " extern int \u001b[01;36m\u001b[Kyywrap\u001b[m\u001b[K ( void );\n",
            "            \u001b[01;36m\u001b[K^~~~~~\u001b[m\u001b[K\n",
            "In file included from \u001b[01m\u001b[Kscan-fct_pddl.y:876:0\u001b[m\u001b[K:\n",
            "\u001b[01m\u001b[Klex.fct_pddl.c:\u001b[m\u001b[K In function ‘\u001b[01m\u001b[Kfct_pddl_init_buffer\u001b[m\u001b[K’:\n",
            "\u001b[01m\u001b[Klex.fct_pddl.c:1962:48:\u001b[m\u001b[K \u001b[01;35m\u001b[Kwarning: \u001b[m\u001b[Kimplicit declaration of function ‘\u001b[01m\u001b[Kfileno\u001b[m\u001b[K’; did you mean ‘\u001b[01m\u001b[Kmblen\u001b[m\u001b[K’? [\u001b[01;35m\u001b[K-Wimplicit-function-declaration\u001b[m\u001b[K]\n",
            "         b->yy_is_interactive = file ? (isatty( \u001b[01;35m\u001b[Kfileno\u001b[m\u001b[K(file) ) > 0) : 0;\n",
            "                                                \u001b[01;35m\u001b[K^~~~~~\u001b[m\u001b[K\n",
            "                                                \u001b[32m\u001b[Kmblen\u001b[m\u001b[K\n",
            "\u001b[01m\u001b[Kscan-fct_pddl.y:\u001b[m\u001b[K At top level:\n",
            "\u001b[01m\u001b[Kscan-fct_pddl.y:887:6:\u001b[m\u001b[K \u001b[01;35m\u001b[Kwarning: \u001b[m\u001b[Kconflicting types for ‘\u001b[01m\u001b[Kfcterr\u001b[m\u001b[K’\n",
            " void \u001b[01;35m\u001b[Kfcterr\u001b[m\u001b[K( int errno, char *par ) {\n",
            "      \u001b[01;35m\u001b[K^~~~~~\u001b[m\u001b[K\n",
            "\u001b[01m\u001b[Kscan-fct_pddl.y:194:3:\u001b[m\u001b[K \u001b[01;36m\u001b[Knote: \u001b[m\u001b[Kprevious implicit declaration of ‘\u001b[01m\u001b[Kfcterr\u001b[m\u001b[K’ was here\n",
            "   \u001b[01;36m\u001b[Kfcterr\u001b[m\u001b[K( PROBNAME_EXPECTED, NULL );\n",
            "   \u001b[01;36m\u001b[K^~~~~~\u001b[m\u001b[K\n",
            "In file included from \u001b[01m\u001b[Kscan-fct_pddl.y:876:0\u001b[m\u001b[K:\n",
            "\u001b[01m\u001b[Klex.fct_pddl.c:1759:16:\u001b[m\u001b[K \u001b[01;35m\u001b[Kwarning: \u001b[m\u001b[K‘\u001b[01m\u001b[Kinput\u001b[m\u001b[K’ defined but not used [\u001b[01;35m\u001b[K-Wunused-function\u001b[m\u001b[K]\n",
            "     static int \u001b[01;35m\u001b[Kinput\u001b[m\u001b[K  (void)\n",
            "                \u001b[01;35m\u001b[K^~~~~\u001b[m\u001b[K\n",
            "\u001b[01m\u001b[Klex.fct_pddl.c:1716:17:\u001b[m\u001b[K \u001b[01;35m\u001b[Kwarning: \u001b[m\u001b[K‘\u001b[01m\u001b[Kyyunput\u001b[m\u001b[K’ defined but not used [\u001b[01;35m\u001b[K-Wunused-function\u001b[m\u001b[K]\n",
            "     static void \u001b[01;35m\u001b[Kyyunput\u001b[m\u001b[K (int c, char * yy_bp )\n",
            "                 \u001b[01;35m\u001b[K^~~~~~~\u001b[m\u001b[K\n",
            "flex -Pops_pddl lex-ops_pddl.l\n",
            "bison -pops_pddl -bscan-ops_pddl scan-ops_pddl.y\n",
            "scan-ops_pddl.y: warning: 1 shift/reduce conflict [-Wconflicts-sr]\n",
            "gcc -c -O6 -Wall -ansi   scan-ops_pddl.tab.c\n",
            "\u001b[01m\u001b[Kscan-ops_pddl.tab.c:\u001b[m\u001b[K In function ‘\u001b[01m\u001b[Kops_pddlparse\u001b[m\u001b[K’:\n",
            "\u001b[01m\u001b[Kscan-ops_pddl.tab.c:64:25:\u001b[m\u001b[K \u001b[01;35m\u001b[Kwarning: \u001b[m\u001b[Kimplicit declaration of function ‘\u001b[01m\u001b[Kops_pddllex\u001b[m\u001b[K’; did you mean ‘\u001b[01m\u001b[Kops_pddlparse\u001b[m\u001b[K’? [\u001b[01;35m\u001b[K-Wimplicit-function-declaration\u001b[m\u001b[K]\n",
            " #define yylex           \u001b[01;35m\u001b[Ko\u001b[m\u001b[Kps_pddllex\n",
            "                         \u001b[01;35m\u001b[K^\u001b[m\u001b[K\n",
            "\u001b[01m\u001b[Kscan-ops_pddl.tab.c:1439:16:\u001b[m\u001b[K \u001b[01;36m\u001b[Knote: \u001b[m\u001b[Kin expansion of macro ‘\u001b[01m\u001b[Kyylex\u001b[m\u001b[K’\n",
            "       yychar = \u001b[01;36m\u001b[Kyylex\u001b[m\u001b[K ();\n",
            "                \u001b[01;36m\u001b[K^~~~~\u001b[m\u001b[K\n",
            "\u001b[01m\u001b[Kscan-ops_pddl.y:205:3:\u001b[m\u001b[K \u001b[01;35m\u001b[Kwarning: \u001b[m\u001b[Kimplicit declaration of function ‘\u001b[01m\u001b[Kopserr\u001b[m\u001b[K’; did you mean ‘\u001b[01m\u001b[Kstderr\u001b[m\u001b[K’? [\u001b[01;35m\u001b[K-Wimplicit-function-declaration\u001b[m\u001b[K]\n",
            "   \u001b[01;35m\u001b[Kopserr\u001b[m\u001b[K( DOMDEF_EXPECTED, NULL );\n",
            "   \u001b[01;35m\u001b[K^~~~~~\u001b[m\u001b[K\n",
            "   \u001b[32m\u001b[Kstderr\u001b[m\u001b[K\n",
            "\u001b[01m\u001b[Kscan-ops_pddl.tab.c:65:25:\u001b[m\u001b[K \u001b[01;35m\u001b[Kwarning: \u001b[m\u001b[Kimplicit declaration of function ‘\u001b[01m\u001b[Kops_pddlerror\u001b[m\u001b[K’; did you mean ‘\u001b[01m\u001b[Kops_pddlparse\u001b[m\u001b[K’? [\u001b[01;35m\u001b[K-Wimplicit-function-declaration\u001b[m\u001b[K]\n",
            " #define yyerror         \u001b[01;35m\u001b[Ko\u001b[m\u001b[Kps_pddlerror\n",
            "                         \u001b[01;35m\u001b[K^\u001b[m\u001b[K\n",
            "\u001b[01m\u001b[Kscan-ops_pddl.y:379:5:\u001b[m\u001b[K \u001b[01;36m\u001b[Knote: \u001b[m\u001b[Kin expansion of macro ‘\u001b[01m\u001b[Kyyerror\u001b[m\u001b[K’\n",
            "     \u001b[01;36m\u001b[Kyyerror\u001b[m\u001b[K();\n",
            "     \u001b[01;36m\u001b[K^~~~~~~\u001b[m\u001b[K\n",
            "In file included from \u001b[01m\u001b[Kscan-ops_pddl.y:994:0\u001b[m\u001b[K:\n",
            "\u001b[01m\u001b[Klex.ops_pddl.c:\u001b[m\u001b[K At top level:\n",
            "\u001b[01m\u001b[Klex.ops_pddl.c:28:16:\u001b[m\u001b[K \u001b[01;35m\u001b[Kwarning: \u001b[m\u001b[Kprototype for ‘\u001b[01m\u001b[Kops_pddlwrap\u001b[m\u001b[K’ follows non-prototype definition\n",
            " #define yywrap \u001b[01;35m\u001b[Ko\u001b[m\u001b[Kps_pddlwrap\n",
            "                \u001b[01;35m\u001b[K^\u001b[m\u001b[K\n",
            "\u001b[01m\u001b[Klex.ops_pddl.c:928:12:\u001b[m\u001b[K \u001b[01;36m\u001b[Knote: \u001b[m\u001b[Kin expansion of macro ‘\u001b[01m\u001b[Kyywrap\u001b[m\u001b[K’\n",
            " extern int \u001b[01;36m\u001b[Kyywrap\u001b[m\u001b[K ( void );\n",
            "            \u001b[01;36m\u001b[K^~~~~~\u001b[m\u001b[K\n",
            "In file included from \u001b[01m\u001b[Kscan-ops_pddl.y:994:0\u001b[m\u001b[K:\n",
            "\u001b[01m\u001b[Klex.ops_pddl.c:\u001b[m\u001b[K In function ‘\u001b[01m\u001b[Kops_pddl_init_buffer\u001b[m\u001b[K’:\n",
            "\u001b[01m\u001b[Klex.ops_pddl.c:2003:48:\u001b[m\u001b[K \u001b[01;35m\u001b[Kwarning: \u001b[m\u001b[Kimplicit declaration of function ‘\u001b[01m\u001b[Kfileno\u001b[m\u001b[K’; did you mean ‘\u001b[01m\u001b[Kmblen\u001b[m\u001b[K’? [\u001b[01;35m\u001b[K-Wimplicit-function-declaration\u001b[m\u001b[K]\n",
            "         b->yy_is_interactive = file ? (isatty( \u001b[01;35m\u001b[Kfileno\u001b[m\u001b[K(file) ) > 0) : 0;\n",
            "                                                \u001b[01;35m\u001b[K^~~~~~\u001b[m\u001b[K\n",
            "                                                \u001b[32m\u001b[Kmblen\u001b[m\u001b[K\n",
            "\u001b[01m\u001b[Kscan-ops_pddl.y:\u001b[m\u001b[K At top level:\n",
            "\u001b[01m\u001b[Kscan-ops_pddl.y:1005:6:\u001b[m\u001b[K \u001b[01;35m\u001b[Kwarning: \u001b[m\u001b[Kconflicting types for ‘\u001b[01m\u001b[Kopserr\u001b[m\u001b[K’\n",
            " void \u001b[01;35m\u001b[Kopserr\u001b[m\u001b[K( int errno, char *par )\n",
            "      \u001b[01;35m\u001b[K^~~~~~\u001b[m\u001b[K\n",
            "\u001b[01m\u001b[Kscan-ops_pddl.y:205:3:\u001b[m\u001b[K \u001b[01;36m\u001b[Knote: \u001b[m\u001b[Kprevious implicit declaration of ‘\u001b[01m\u001b[Kopserr\u001b[m\u001b[K’ was here\n",
            "   \u001b[01;36m\u001b[Kopserr\u001b[m\u001b[K( DOMDEF_EXPECTED, NULL );\n",
            "   \u001b[01;36m\u001b[K^~~~~~\u001b[m\u001b[K\n",
            "In file included from \u001b[01m\u001b[Kscan-ops_pddl.y:994:0\u001b[m\u001b[K:\n",
            "\u001b[01m\u001b[Klex.ops_pddl.c:1800:16:\u001b[m\u001b[K \u001b[01;35m\u001b[Kwarning: \u001b[m\u001b[K‘\u001b[01m\u001b[Kinput\u001b[m\u001b[K’ defined but not used [\u001b[01;35m\u001b[K-Wunused-function\u001b[m\u001b[K]\n",
            "     static int \u001b[01;35m\u001b[Kinput\u001b[m\u001b[K  (void)\n",
            "                \u001b[01;35m\u001b[K^~~~~\u001b[m\u001b[K\n",
            "\u001b[01m\u001b[Klex.ops_pddl.c:1757:17:\u001b[m\u001b[K \u001b[01;35m\u001b[Kwarning: \u001b[m\u001b[K‘\u001b[01m\u001b[Kyyunput\u001b[m\u001b[K’ defined but not used [\u001b[01;35m\u001b[K-Wunused-function\u001b[m\u001b[K]\n",
            "     static void \u001b[01;35m\u001b[Kyyunput\u001b[m\u001b[K (int c, char * yy_bp )\n",
            "                 \u001b[01;35m\u001b[K^~~~~~~\u001b[m\u001b[K\n",
            "ar cru libff.a libff.o memory.o output.o parse.o expressions.o inst_pre.o inst_easy.o inst_hard.o inst_final.o relax.o search.o utility.o scan-fct_pddl.tab.o scan-ops_pddl.tab.o \n",
            "ar: `u' modifier ignored since `D' is the default (see `U')\n"
          ]
        }
      ]
    },
    {
      "cell_type": "markdown",
      "source": [
        "# Sample Run a planner"
      ],
      "metadata": {
        "id": "kZ5xS0_SGkWi"
      }
    },
    {
      "cell_type": "code",
      "source": [
        "root_dir = \"/content/PDDLMultiAgent\"\n",
        "%cd $root_dir"
      ],
      "metadata": {
        "id": "oyCZ9AZbH1Ij"
      },
      "execution_count": 37,
      "outputs": []
    },
    {
      "cell_type": "markdown",
      "source": [
        "## Implement customize siw-then-bfsf planner wrapper\n",
        "\n",
        "The planner wrapper from the repo does not work as it depends on a symlink on github. "
      ],
      "metadata": {
        "id": "h5TsknL4G3bF"
      }
    },
    {
      "cell_type": "code",
      "source": [
        "import subprocess\n",
        "import os\n",
        "import pdb\n",
        "import utils_env_parser\n",
        "import urllib.request as urllibreq\n",
        "import urllib\n",
        "import argparse\n",
        "import json, sys\n",
        "import time"
      ],
      "metadata": {
        "id": "lRSt885_HfQs"
      },
      "execution_count": 59,
      "outputs": []
    },
    {
      "cell_type": "code",
      "source": [
        "planner_pth = os.path.join(root_dir, 'LAPKT-public', 'planners', 'siw_plus-then-bfs_f-ffparser' ,'siw-then-bfsf')\n",
        "def planner(domain_name, problem_name, file_out, planner_dir = planner_pth):\n",
        "    start = time.time()\n",
        "    stats_dir = '/'.join(file_out.split('/')[:-3]) + '/stats/' \n",
        "    file_stats = stats_dir + file_out.split('/')[-1] + '_stats.txt'\n",
        "    os.makedirs(stats_dir, exist_ok=True)\n",
        "    with open(file_stats, 'w+') as outfile:\n",
        "        proc = subprocess.call([planner_pth, '--domain', domain_name, '--problem', problem_name, '--output', file_out], stdout=outfile)\n",
        "    with open(file_out, 'r') as f:\n",
        "        program = f.readlines()\n",
        "        if len(program) > 0 and len(program[-1]) == 0:\n",
        "            program = program[:-1]\n",
        "    program = utils_env_parser.convert_to_virtualhome_program(program)\n",
        "    program = [x+'\\n' for x in program]\n",
        "    if len(program) > 0:\n",
        "        with open(file_out, 'w+') as f:\n",
        "            f.writelines(program)\n",
        "        print(\"Successfully executed the planner.\")\n",
        "    else:\n",
        "        os.remove(file_stats)\n",
        "        os.remove(file_out)\n",
        "        print(\"Planner has no output.\")\n",
        "    end = time.time()\n",
        "    print(\"Time used: {}\".format(end-start))\n"
      ],
      "metadata": {
        "id": "pd9EI5mIG04b"
      },
      "execution_count": 80,
      "outputs": []
    },
    {
      "cell_type": "code",
      "source": [
        "! ./LAPKT-public/planners/siw_plus-then-bfs_f-ffparser/siw-then-bfsf --domain domain.pddl --problem example_problem/example_problem_short.pddl --output file_out"
      ],
      "metadata": {
        "colab": {
          "base_uri": "https://localhost:8080/"
        },
        "id": "S1BGtRS1YJ6t",
        "outputId": "cafcc54d-a455-4e00-c154-cbe4202839b0"
      },
      "execution_count": 89,
      "outputs": [
        {
          "output_type": "stream",
          "name": "stdout",
          "text": [
            "\n",
            "\n",
            "task contains conditional effects. turning off state domination.\n",
            "\n",
            " --- OK.\n",
            " Match tree built with 11 nodes.\n",
            "\n",
            "PDDL problem description loaded: \n",
            "\tDomain: VIRTUALHOME\n",
            "\tProblem: GOTOKITCHEN\n",
            "\t#Actions: 11\n",
            "\t#Fluents: 30\n",
            "Landmarks found: 1\n",
            "Starting search with IW (time budget is 60 secs)...\n",
            "rel_plan size: 1\n",
            "#RP_fluents 4\n",
            "Caption\n",
            "{#goals, #UNnachieved,  #Achieved} -> IW(max_w)\n",
            "\n",
            "{1/1/0}:IW(1) -> [2]rel_plan size: 0\n",
            "#RP_fluents 0Plan found with cost: 1\n",
            "Total time: 0.000111\n",
            "Nodes generated during search: 2\n",
            "Nodes expanded during search: 1\n",
            "IW search completed\n"
          ]
        }
      ]
    },
    {
      "cell_type": "code",
      "source": [
        "domain_name='./domain.pddl'\n",
        "problem_name='./example_problem/example_problem_short.pddl'\n",
        "output_dir = \"./example_out\"\n",
        "planner(domain_name=domain_name, problem_name=problem_name, file_out=output_dir)"
      ],
      "metadata": {
        "colab": {
          "base_uri": "https://localhost:8080/"
        },
        "id": "IM4psvURH-yS",
        "outputId": "df257404-a459-4c83-e41d-ed100ddf4f09"
      },
      "execution_count": 90,
      "outputs": [
        {
          "output_type": "stream",
          "name": "stdout",
          "text": [
            "Successfully executed the planner.\n",
            "Time used: 0.020502090454101562\n"
          ]
        }
      ]
    },
    {
      "cell_type": "code",
      "source": [
        "#printout result\n",
        "f = open('./example_out')\n",
        "for line in f:\n",
        "    print(line)"
      ],
      "metadata": {
        "colab": {
          "base_uri": "https://localhost:8080/"
        },
        "id": "n2c43ea3X2By",
        "outputId": "4945c32e-f809-4507-e007-c48e4c9274f9"
      },
      "execution_count": 91,
      "outputs": [
        {
          "output_type": "stream",
          "name": "stdout",
          "text": [
            "[WALK] <KITCHEN> (11)\n",
            "\n"
          ]
        }
      ]
    }
  ]
}